{
 "cells": [
  {
   "cell_type": "code",
   "execution_count": 33,
   "metadata": {},
   "outputs": [],
   "source": [
    "# Importation des bibliothéques utiles pour l'analyse\n",
    "import pandas as pd \n",
    "import numpy as np\n",
    "import matplotlib.pyplot as plt\n",
    "import seaborn as sns\n",
    "%matplotlib inline "
   ]
  },
  {
   "cell_type": "code",
   "execution_count": 34,
   "metadata": {},
   "outputs": [
    {
     "data": {
      "text/html": [
       "<div>\n",
       "<style scoped>\n",
       "    .dataframe tbody tr th:only-of-type {\n",
       "        vertical-align: middle;\n",
       "    }\n",
       "\n",
       "    .dataframe tbody tr th {\n",
       "        vertical-align: top;\n",
       "    }\n",
       "\n",
       "    .dataframe thead th {\n",
       "        text-align: right;\n",
       "    }\n",
       "</style>\n",
       "<table border=\"1\" class=\"dataframe\">\n",
       "  <thead>\n",
       "    <tr style=\"text-align: right;\">\n",
       "      <th></th>\n",
       "      <th>CustomerID</th>\n",
       "      <th>Count</th>\n",
       "      <th>Country</th>\n",
       "      <th>State</th>\n",
       "      <th>City</th>\n",
       "      <th>Zip Code</th>\n",
       "      <th>Lat Long</th>\n",
       "      <th>Latitude</th>\n",
       "      <th>Longitude</th>\n",
       "      <th>Gender</th>\n",
       "      <th>...</th>\n",
       "      <th>Contract</th>\n",
       "      <th>Paperless Billing</th>\n",
       "      <th>Payment Method</th>\n",
       "      <th>Monthly Charges</th>\n",
       "      <th>Total Charges</th>\n",
       "      <th>Churn Label</th>\n",
       "      <th>Churn Value</th>\n",
       "      <th>Churn Score</th>\n",
       "      <th>CLTV</th>\n",
       "      <th>Churn Reason</th>\n",
       "    </tr>\n",
       "  </thead>\n",
       "  <tbody>\n",
       "    <tr>\n",
       "      <th>0</th>\n",
       "      <td>3668-QPYBK</td>\n",
       "      <td>1</td>\n",
       "      <td>United States</td>\n",
       "      <td>California</td>\n",
       "      <td>Los Angeles</td>\n",
       "      <td>90003</td>\n",
       "      <td>33.964131, -118.272783</td>\n",
       "      <td>33.964131</td>\n",
       "      <td>-118.272783</td>\n",
       "      <td>Male</td>\n",
       "      <td>...</td>\n",
       "      <td>Month-to-month</td>\n",
       "      <td>Yes</td>\n",
       "      <td>Mailed check</td>\n",
       "      <td>53.85</td>\n",
       "      <td>108.15</td>\n",
       "      <td>Yes</td>\n",
       "      <td>1</td>\n",
       "      <td>86</td>\n",
       "      <td>3239</td>\n",
       "      <td>Competitor made better offer</td>\n",
       "    </tr>\n",
       "    <tr>\n",
       "      <th>1</th>\n",
       "      <td>9237-HQITU</td>\n",
       "      <td>1</td>\n",
       "      <td>United States</td>\n",
       "      <td>California</td>\n",
       "      <td>Los Angeles</td>\n",
       "      <td>90005</td>\n",
       "      <td>34.059281, -118.30742</td>\n",
       "      <td>34.059281</td>\n",
       "      <td>-118.307420</td>\n",
       "      <td>Female</td>\n",
       "      <td>...</td>\n",
       "      <td>Month-to-month</td>\n",
       "      <td>Yes</td>\n",
       "      <td>Electronic check</td>\n",
       "      <td>70.70</td>\n",
       "      <td>151.65</td>\n",
       "      <td>Yes</td>\n",
       "      <td>1</td>\n",
       "      <td>67</td>\n",
       "      <td>2701</td>\n",
       "      <td>Moved</td>\n",
       "    </tr>\n",
       "    <tr>\n",
       "      <th>2</th>\n",
       "      <td>9305-CDSKC</td>\n",
       "      <td>1</td>\n",
       "      <td>United States</td>\n",
       "      <td>California</td>\n",
       "      <td>Los Angeles</td>\n",
       "      <td>90006</td>\n",
       "      <td>34.048013, -118.293953</td>\n",
       "      <td>34.048013</td>\n",
       "      <td>-118.293953</td>\n",
       "      <td>Female</td>\n",
       "      <td>...</td>\n",
       "      <td>Month-to-month</td>\n",
       "      <td>Yes</td>\n",
       "      <td>Electronic check</td>\n",
       "      <td>99.65</td>\n",
       "      <td>820.5</td>\n",
       "      <td>Yes</td>\n",
       "      <td>1</td>\n",
       "      <td>86</td>\n",
       "      <td>5372</td>\n",
       "      <td>Moved</td>\n",
       "    </tr>\n",
       "  </tbody>\n",
       "</table>\n",
       "<p>3 rows × 33 columns</p>\n",
       "</div>"
      ],
      "text/plain": [
       "   CustomerID  Count        Country       State         City  Zip Code  \\\n",
       "0  3668-QPYBK      1  United States  California  Los Angeles     90003   \n",
       "1  9237-HQITU      1  United States  California  Los Angeles     90005   \n",
       "2  9305-CDSKC      1  United States  California  Los Angeles     90006   \n",
       "\n",
       "                 Lat Long   Latitude   Longitude  Gender  ...        Contract  \\\n",
       "0  33.964131, -118.272783  33.964131 -118.272783    Male  ...  Month-to-month   \n",
       "1   34.059281, -118.30742  34.059281 -118.307420  Female  ...  Month-to-month   \n",
       "2  34.048013, -118.293953  34.048013 -118.293953  Female  ...  Month-to-month   \n",
       "\n",
       "  Paperless Billing    Payment Method  Monthly Charges Total Charges  \\\n",
       "0               Yes      Mailed check            53.85        108.15   \n",
       "1               Yes  Electronic check            70.70        151.65   \n",
       "2               Yes  Electronic check            99.65         820.5   \n",
       "\n",
       "  Churn Label Churn Value Churn Score  CLTV                  Churn Reason  \n",
       "0         Yes           1          86  3239  Competitor made better offer  \n",
       "1         Yes           1          67  2701                         Moved  \n",
       "2         Yes           1          86  5372                         Moved  \n",
       "\n",
       "[3 rows x 33 columns]"
      ]
     },
     "execution_count": 34,
     "metadata": {},
     "output_type": "execute_result"
    }
   ],
   "source": [
    "# Chargement de notre DataFrame \n",
    "data=pd.read_csv(\"C:/Users/User/Desktop/Projet_ML/Telco-Customer-Churn1.csv\")\n",
    "data.head(3)"
   ]
  },
  {
   "cell_type": "code",
   "execution_count": 35,
   "metadata": {},
   "outputs": [],
   "source": [
    "var_to_drop=['CustomerID', 'Count', 'Country', 'State', 'City', 'Zip Code',\n",
    "       'Lat Long', 'Latitude', 'Longitude',\n",
    "             'Churn Label', 'CLTV','Churn Score', 'Churn Reason']"
   ]
  },
  {
   "cell_type": "code",
   "execution_count": 36,
   "metadata": {},
   "outputs": [],
   "source": [
    "#suppression des variables unutiles\n",
    "data=data.drop(columns=var_to_drop)"
   ]
  },
  {
   "cell_type": "code",
   "execution_count": 37,
   "metadata": {},
   "outputs": [],
   "source": [
    "# Convertion en type numérique\n",
    "data['Total Charges']=pd.to_numeric(data['Total Charges'],errors='coerce')\n"
   ]
  },
  {
   "cell_type": "code",
   "execution_count": 38,
   "metadata": {},
   "outputs": [],
   "source": [
    "# on va supprimer les 11 valeur manquantes de la variable 'Total Charges\n",
    "data=data.dropna()"
   ]
  },
  {
   "cell_type": "code",
   "execution_count": 39,
   "metadata": {},
   "outputs": [
    {
     "data": {
      "text/plain": [
       "(7032, 20)"
      ]
     },
     "execution_count": 39,
     "metadata": {},
     "output_type": "execute_result"
    }
   ],
   "source": [
    "data.shape"
   ]
  },
  {
   "cell_type": "code",
   "execution_count": 40,
   "metadata": {},
   "outputs": [],
   "source": [
    "#liste des variables a encoder \n",
    "col_to_encoder=['Gender', 'Senior Citizen', 'Partner', 'Dependents',\n",
    "       'Phone Service', 'Multiple Lines', 'Internet Service',\n",
    "       'Online Security', 'Online Backup', 'Device Protection', 'Tech Support',\n",
    "       'Streaming TV', 'Streaming Movies', 'Contract', 'Paperless Billing',\n",
    "       'Payment Method']"
   ]
  },
  {
   "cell_type": "code",
   "execution_count": 41,
   "metadata": {},
   "outputs": [
    {
     "data": {
      "text/html": [
       "<div>\n",
       "<style scoped>\n",
       "    .dataframe tbody tr th:only-of-type {\n",
       "        vertical-align: middle;\n",
       "    }\n",
       "\n",
       "    .dataframe tbody tr th {\n",
       "        vertical-align: top;\n",
       "    }\n",
       "\n",
       "    .dataframe thead th {\n",
       "        text-align: right;\n",
       "    }\n",
       "</style>\n",
       "<table border=\"1\" class=\"dataframe\">\n",
       "  <thead>\n",
       "    <tr style=\"text-align: right;\">\n",
       "      <th></th>\n",
       "      <th>Gender_Male</th>\n",
       "      <th>Senior Citizen_Yes</th>\n",
       "      <th>Partner_Yes</th>\n",
       "      <th>Dependents_Yes</th>\n",
       "      <th>Phone Service_Yes</th>\n",
       "      <th>Multiple Lines_No phone service</th>\n",
       "      <th>Multiple Lines_Yes</th>\n",
       "      <th>Internet Service_Fiber optic</th>\n",
       "      <th>Internet Service_No</th>\n",
       "      <th>Online Security_No internet service</th>\n",
       "      <th>...</th>\n",
       "      <th>Contract_One year</th>\n",
       "      <th>Contract_Two year</th>\n",
       "      <th>Paperless Billing_Yes</th>\n",
       "      <th>Payment Method_Credit card (automatic)</th>\n",
       "      <th>Payment Method_Electronic check</th>\n",
       "      <th>Payment Method_Mailed check</th>\n",
       "      <th>Tenure Months</th>\n",
       "      <th>Monthly Charges</th>\n",
       "      <th>Total Charges</th>\n",
       "      <th>Churn Value</th>\n",
       "    </tr>\n",
       "  </thead>\n",
       "  <tbody>\n",
       "    <tr>\n",
       "      <th>0</th>\n",
       "      <td>1</td>\n",
       "      <td>0</td>\n",
       "      <td>0</td>\n",
       "      <td>0</td>\n",
       "      <td>1</td>\n",
       "      <td>0</td>\n",
       "      <td>0</td>\n",
       "      <td>0</td>\n",
       "      <td>0</td>\n",
       "      <td>0</td>\n",
       "      <td>...</td>\n",
       "      <td>0</td>\n",
       "      <td>0</td>\n",
       "      <td>1</td>\n",
       "      <td>0</td>\n",
       "      <td>0</td>\n",
       "      <td>1</td>\n",
       "      <td>2</td>\n",
       "      <td>53.85</td>\n",
       "      <td>108.15</td>\n",
       "      <td>1</td>\n",
       "    </tr>\n",
       "    <tr>\n",
       "      <th>1</th>\n",
       "      <td>0</td>\n",
       "      <td>0</td>\n",
       "      <td>0</td>\n",
       "      <td>1</td>\n",
       "      <td>1</td>\n",
       "      <td>0</td>\n",
       "      <td>0</td>\n",
       "      <td>1</td>\n",
       "      <td>0</td>\n",
       "      <td>0</td>\n",
       "      <td>...</td>\n",
       "      <td>0</td>\n",
       "      <td>0</td>\n",
       "      <td>1</td>\n",
       "      <td>0</td>\n",
       "      <td>1</td>\n",
       "      <td>0</td>\n",
       "      <td>2</td>\n",
       "      <td>70.70</td>\n",
       "      <td>151.65</td>\n",
       "      <td>1</td>\n",
       "    </tr>\n",
       "    <tr>\n",
       "      <th>2</th>\n",
       "      <td>0</td>\n",
       "      <td>0</td>\n",
       "      <td>0</td>\n",
       "      <td>1</td>\n",
       "      <td>1</td>\n",
       "      <td>0</td>\n",
       "      <td>1</td>\n",
       "      <td>1</td>\n",
       "      <td>0</td>\n",
       "      <td>0</td>\n",
       "      <td>...</td>\n",
       "      <td>0</td>\n",
       "      <td>0</td>\n",
       "      <td>1</td>\n",
       "      <td>0</td>\n",
       "      <td>1</td>\n",
       "      <td>0</td>\n",
       "      <td>8</td>\n",
       "      <td>99.65</td>\n",
       "      <td>820.50</td>\n",
       "      <td>1</td>\n",
       "    </tr>\n",
       "    <tr>\n",
       "      <th>3</th>\n",
       "      <td>0</td>\n",
       "      <td>0</td>\n",
       "      <td>1</td>\n",
       "      <td>1</td>\n",
       "      <td>1</td>\n",
       "      <td>0</td>\n",
       "      <td>1</td>\n",
       "      <td>1</td>\n",
       "      <td>0</td>\n",
       "      <td>0</td>\n",
       "      <td>...</td>\n",
       "      <td>0</td>\n",
       "      <td>0</td>\n",
       "      <td>1</td>\n",
       "      <td>0</td>\n",
       "      <td>1</td>\n",
       "      <td>0</td>\n",
       "      <td>28</td>\n",
       "      <td>104.80</td>\n",
       "      <td>3046.05</td>\n",
       "      <td>1</td>\n",
       "    </tr>\n",
       "    <tr>\n",
       "      <th>4</th>\n",
       "      <td>1</td>\n",
       "      <td>0</td>\n",
       "      <td>0</td>\n",
       "      <td>1</td>\n",
       "      <td>1</td>\n",
       "      <td>0</td>\n",
       "      <td>1</td>\n",
       "      <td>1</td>\n",
       "      <td>0</td>\n",
       "      <td>0</td>\n",
       "      <td>...</td>\n",
       "      <td>0</td>\n",
       "      <td>0</td>\n",
       "      <td>1</td>\n",
       "      <td>0</td>\n",
       "      <td>0</td>\n",
       "      <td>0</td>\n",
       "      <td>49</td>\n",
       "      <td>103.70</td>\n",
       "      <td>5036.30</td>\n",
       "      <td>1</td>\n",
       "    </tr>\n",
       "    <tr>\n",
       "      <th>...</th>\n",
       "      <td>...</td>\n",
       "      <td>...</td>\n",
       "      <td>...</td>\n",
       "      <td>...</td>\n",
       "      <td>...</td>\n",
       "      <td>...</td>\n",
       "      <td>...</td>\n",
       "      <td>...</td>\n",
       "      <td>...</td>\n",
       "      <td>...</td>\n",
       "      <td>...</td>\n",
       "      <td>...</td>\n",
       "      <td>...</td>\n",
       "      <td>...</td>\n",
       "      <td>...</td>\n",
       "      <td>...</td>\n",
       "      <td>...</td>\n",
       "      <td>...</td>\n",
       "      <td>...</td>\n",
       "      <td>...</td>\n",
       "      <td>...</td>\n",
       "    </tr>\n",
       "    <tr>\n",
       "      <th>7038</th>\n",
       "      <td>0</td>\n",
       "      <td>0</td>\n",
       "      <td>0</td>\n",
       "      <td>0</td>\n",
       "      <td>1</td>\n",
       "      <td>0</td>\n",
       "      <td>0</td>\n",
       "      <td>0</td>\n",
       "      <td>1</td>\n",
       "      <td>1</td>\n",
       "      <td>...</td>\n",
       "      <td>0</td>\n",
       "      <td>1</td>\n",
       "      <td>1</td>\n",
       "      <td>0</td>\n",
       "      <td>0</td>\n",
       "      <td>0</td>\n",
       "      <td>72</td>\n",
       "      <td>21.15</td>\n",
       "      <td>1419.40</td>\n",
       "      <td>0</td>\n",
       "    </tr>\n",
       "    <tr>\n",
       "      <th>7039</th>\n",
       "      <td>1</td>\n",
       "      <td>0</td>\n",
       "      <td>1</td>\n",
       "      <td>1</td>\n",
       "      <td>1</td>\n",
       "      <td>0</td>\n",
       "      <td>1</td>\n",
       "      <td>0</td>\n",
       "      <td>0</td>\n",
       "      <td>0</td>\n",
       "      <td>...</td>\n",
       "      <td>1</td>\n",
       "      <td>0</td>\n",
       "      <td>1</td>\n",
       "      <td>0</td>\n",
       "      <td>0</td>\n",
       "      <td>1</td>\n",
       "      <td>24</td>\n",
       "      <td>84.80</td>\n",
       "      <td>1990.50</td>\n",
       "      <td>0</td>\n",
       "    </tr>\n",
       "    <tr>\n",
       "      <th>7040</th>\n",
       "      <td>0</td>\n",
       "      <td>0</td>\n",
       "      <td>1</td>\n",
       "      <td>1</td>\n",
       "      <td>1</td>\n",
       "      <td>0</td>\n",
       "      <td>1</td>\n",
       "      <td>1</td>\n",
       "      <td>0</td>\n",
       "      <td>0</td>\n",
       "      <td>...</td>\n",
       "      <td>1</td>\n",
       "      <td>0</td>\n",
       "      <td>1</td>\n",
       "      <td>1</td>\n",
       "      <td>0</td>\n",
       "      <td>0</td>\n",
       "      <td>72</td>\n",
       "      <td>103.20</td>\n",
       "      <td>7362.90</td>\n",
       "      <td>0</td>\n",
       "    </tr>\n",
       "    <tr>\n",
       "      <th>7041</th>\n",
       "      <td>0</td>\n",
       "      <td>0</td>\n",
       "      <td>1</td>\n",
       "      <td>1</td>\n",
       "      <td>0</td>\n",
       "      <td>1</td>\n",
       "      <td>0</td>\n",
       "      <td>0</td>\n",
       "      <td>0</td>\n",
       "      <td>0</td>\n",
       "      <td>...</td>\n",
       "      <td>0</td>\n",
       "      <td>0</td>\n",
       "      <td>1</td>\n",
       "      <td>0</td>\n",
       "      <td>1</td>\n",
       "      <td>0</td>\n",
       "      <td>11</td>\n",
       "      <td>29.60</td>\n",
       "      <td>346.45</td>\n",
       "      <td>0</td>\n",
       "    </tr>\n",
       "    <tr>\n",
       "      <th>7042</th>\n",
       "      <td>1</td>\n",
       "      <td>0</td>\n",
       "      <td>0</td>\n",
       "      <td>0</td>\n",
       "      <td>1</td>\n",
       "      <td>0</td>\n",
       "      <td>0</td>\n",
       "      <td>1</td>\n",
       "      <td>0</td>\n",
       "      <td>0</td>\n",
       "      <td>...</td>\n",
       "      <td>0</td>\n",
       "      <td>1</td>\n",
       "      <td>1</td>\n",
       "      <td>0</td>\n",
       "      <td>0</td>\n",
       "      <td>0</td>\n",
       "      <td>66</td>\n",
       "      <td>105.65</td>\n",
       "      <td>6844.50</td>\n",
       "      <td>0</td>\n",
       "    </tr>\n",
       "  </tbody>\n",
       "</table>\n",
       "<p>7032 rows × 31 columns</p>\n",
       "</div>"
      ],
      "text/plain": [
       "      Gender_Male  Senior Citizen_Yes  Partner_Yes  Dependents_Yes  \\\n",
       "0               1                   0            0               0   \n",
       "1               0                   0            0               1   \n",
       "2               0                   0            0               1   \n",
       "3               0                   0            1               1   \n",
       "4               1                   0            0               1   \n",
       "...           ...                 ...          ...             ...   \n",
       "7038            0                   0            0               0   \n",
       "7039            1                   0            1               1   \n",
       "7040            0                   0            1               1   \n",
       "7041            0                   0            1               1   \n",
       "7042            1                   0            0               0   \n",
       "\n",
       "      Phone Service_Yes  Multiple Lines_No phone service  Multiple Lines_Yes  \\\n",
       "0                     1                                0                   0   \n",
       "1                     1                                0                   0   \n",
       "2                     1                                0                   1   \n",
       "3                     1                                0                   1   \n",
       "4                     1                                0                   1   \n",
       "...                 ...                              ...                 ...   \n",
       "7038                  1                                0                   0   \n",
       "7039                  1                                0                   1   \n",
       "7040                  1                                0                   1   \n",
       "7041                  0                                1                   0   \n",
       "7042                  1                                0                   0   \n",
       "\n",
       "      Internet Service_Fiber optic  Internet Service_No  \\\n",
       "0                                0                    0   \n",
       "1                                1                    0   \n",
       "2                                1                    0   \n",
       "3                                1                    0   \n",
       "4                                1                    0   \n",
       "...                            ...                  ...   \n",
       "7038                             0                    1   \n",
       "7039                             0                    0   \n",
       "7040                             1                    0   \n",
       "7041                             0                    0   \n",
       "7042                             1                    0   \n",
       "\n",
       "      Online Security_No internet service  ...  Contract_One year  \\\n",
       "0                                       0  ...                  0   \n",
       "1                                       0  ...                  0   \n",
       "2                                       0  ...                  0   \n",
       "3                                       0  ...                  0   \n",
       "4                                       0  ...                  0   \n",
       "...                                   ...  ...                ...   \n",
       "7038                                    1  ...                  0   \n",
       "7039                                    0  ...                  1   \n",
       "7040                                    0  ...                  1   \n",
       "7041                                    0  ...                  0   \n",
       "7042                                    0  ...                  0   \n",
       "\n",
       "      Contract_Two year  Paperless Billing_Yes  \\\n",
       "0                     0                      1   \n",
       "1                     0                      1   \n",
       "2                     0                      1   \n",
       "3                     0                      1   \n",
       "4                     0                      1   \n",
       "...                 ...                    ...   \n",
       "7038                  1                      1   \n",
       "7039                  0                      1   \n",
       "7040                  0                      1   \n",
       "7041                  0                      1   \n",
       "7042                  1                      1   \n",
       "\n",
       "      Payment Method_Credit card (automatic)  Payment Method_Electronic check  \\\n",
       "0                                          0                                0   \n",
       "1                                          0                                1   \n",
       "2                                          0                                1   \n",
       "3                                          0                                1   \n",
       "4                                          0                                0   \n",
       "...                                      ...                              ...   \n",
       "7038                                       0                                0   \n",
       "7039                                       0                                0   \n",
       "7040                                       1                                0   \n",
       "7041                                       0                                1   \n",
       "7042                                       0                                0   \n",
       "\n",
       "      Payment Method_Mailed check  Tenure Months  Monthly Charges  \\\n",
       "0                               1              2            53.85   \n",
       "1                               0              2            70.70   \n",
       "2                               0              8            99.65   \n",
       "3                               0             28           104.80   \n",
       "4                               0             49           103.70   \n",
       "...                           ...            ...              ...   \n",
       "7038                            0             72            21.15   \n",
       "7039                            1             24            84.80   \n",
       "7040                            0             72           103.20   \n",
       "7041                            0             11            29.60   \n",
       "7042                            0             66           105.65   \n",
       "\n",
       "      Total Charges  Churn Value  \n",
       "0            108.15            1  \n",
       "1            151.65            1  \n",
       "2            820.50            1  \n",
       "3           3046.05            1  \n",
       "4           5036.30            1  \n",
       "...             ...          ...  \n",
       "7038        1419.40            0  \n",
       "7039        1990.50            0  \n",
       "7040        7362.90            0  \n",
       "7041         346.45            0  \n",
       "7042        6844.50            0  \n",
       "\n",
       "[7032 rows x 31 columns]"
      ]
     },
     "execution_count": 41,
     "metadata": {},
     "output_type": "execute_result"
    }
   ],
   "source": [
    "data_encod=pd.get_dummies(data[col_to_encoder],drop_first=True)\n",
    "data_num=data[['Tenure Months','Monthly Charges','Total Charges','Churn Value']]\n",
    "data=pd.concat([data_encod,data_num],axis=1)\n",
    "data"
   ]
  },
  {
   "cell_type": "code",
   "execution_count": 42,
   "metadata": {},
   "outputs": [
    {
     "name": "stdout",
     "output_type": "stream",
     "text": [
      "(7032, 30)\n",
      "(7032,)\n"
     ]
    }
   ],
   "source": [
    "y=data['Churn Value']\n",
    "y\n",
    "x=data.drop(columns='Churn Value')\n",
    "print(x.shape)\n",
    "print(y.shape)"
   ]
  },
  {
   "cell_type": "code",
   "execution_count": 43,
   "metadata": {},
   "outputs": [],
   "source": [
    "from sklearn.model_selection import train_test_split\n",
    "\n",
    "x_train, x_test, y_train, y_test = train_test_split(x, y, test_size=0.3, random_state=0, stratify = y)\n"
   ]
  },
  {
   "cell_type": "code",
   "execution_count": 44,
   "metadata": {},
   "outputs": [
    {
     "name": "stderr",
     "output_type": "stream",
     "text": [
      "C:\\Users\\User\\anaconda3\\lib\\site-packages\\ipykernel_launcher.py:6: SettingWithCopyWarning: \n",
      "A value is trying to be set on a copy of a slice from a DataFrame.\n",
      "Try using .loc[row_indexer,col_indexer] = value instead\n",
      "\n",
      "See the caveats in the documentation: https://pandas.pydata.org/pandas-docs/stable/user_guide/indexing.html#returning-a-view-versus-a-copy\n",
      "  \n",
      "C:\\Users\\User\\anaconda3\\lib\\site-packages\\pandas\\core\\indexing.py:1736: SettingWithCopyWarning: \n",
      "A value is trying to be set on a copy of a slice from a DataFrame.\n",
      "Try using .loc[row_indexer,col_indexer] = value instead\n",
      "\n",
      "See the caveats in the documentation: https://pandas.pydata.org/pandas-docs/stable/user_guide/indexing.html#returning-a-view-versus-a-copy\n",
      "  isetter(loc, value[:, i].tolist())\n",
      "C:\\Users\\User\\anaconda3\\lib\\site-packages\\ipykernel_launcher.py:7: SettingWithCopyWarning: \n",
      "A value is trying to be set on a copy of a slice from a DataFrame.\n",
      "Try using .loc[row_indexer,col_indexer] = value instead\n",
      "\n",
      "See the caveats in the documentation: https://pandas.pydata.org/pandas-docs/stable/user_guide/indexing.html#returning-a-view-versus-a-copy\n",
      "  import sys\n",
      "C:\\Users\\User\\anaconda3\\lib\\site-packages\\pandas\\core\\indexing.py:1736: SettingWithCopyWarning: \n",
      "A value is trying to be set on a copy of a slice from a DataFrame.\n",
      "Try using .loc[row_indexer,col_indexer] = value instead\n",
      "\n",
      "See the caveats in the documentation: https://pandas.pydata.org/pandas-docs/stable/user_guide/indexing.html#returning-a-view-versus-a-copy\n",
      "  isetter(loc, value[:, i].tolist())\n"
     ]
    }
   ],
   "source": [
    "from sklearn.preprocessing import MinMaxScaler\n",
    "\n",
    "scaler=MinMaxScaler()\n",
    "\n",
    "\n",
    "x_train[['Tenure Months','Monthly Charges','Total Charges']]=scaler.fit_transform(x_train[['Tenure Months','Monthly Charges','Total Charges']])\n",
    "x_test[['Tenure Months','Monthly Charges','Total Charges']]=scaler.transform(x_test[['Tenure Months','Monthly Charges','Total Charges']])\n"
   ]
  },
  {
   "cell_type": "markdown",
   "metadata": {},
   "source": [
    "## Selection Features with `Variance `"
   ]
  },
  {
   "cell_type": "code",
   "execution_count": 45,
   "metadata": {},
   "outputs": [
    {
     "data": {
      "text/plain": [
       "Gender_Male                               2.500135e-01\n",
       "Senior Citizen_Yes                        1.360459e-01\n",
       "Partner_Yes                               2.497296e-01\n",
       "Dependents_Yes                            1.773278e-01\n",
       "Phone Service_Yes                         8.736218e-02\n",
       "Multiple Lines_No phone service           8.736218e-02\n",
       "Multiple Lines_Yes                        2.439395e-01\n",
       "Internet Service_Fiber optic              2.464677e-01\n",
       "Internet Service_No                       1.694560e-01\n",
       "Online Security_No internet service       1.694560e-01\n",
       "Online Security_Yes                       2.044670e-01\n",
       "Online Backup_No internet service         1.694560e-01\n",
       "Online Backup_Yes                         2.259613e-01\n",
       "Device Protection_No internet service     1.694560e-01\n",
       "Device Protection_Yes                     2.256513e-01\n",
       "Tech Support_No internet service          1.694560e-01\n",
       "Tech Support_Yes                          2.059723e-01\n",
       "Streaming TV_No internet service          1.694560e-01\n",
       "Streaming TV_Yes                          2.366670e-01\n",
       "Streaming Movies_No internet service      1.694560e-01\n",
       "Streaming Movies_Yes                      2.375720e-01\n",
       "Contract_One year                         1.655338e-01\n",
       "Contract_Two year                         1.822276e-01\n",
       "Paperless Billing_Yes                     2.414375e-01\n",
       "Payment Method_Credit card (automatic)    1.695367e-01\n",
       "Payment Method_Electronic check           2.232405e-01\n",
       "Payment Method_Mailed check               1.760955e-01\n",
       "Tenure Months                             6.024698e+02\n",
       "Monthly Charges                           9.051658e+02\n",
       "Total Charges                             5.138252e+06\n",
       "dtype: float64"
      ]
     },
     "execution_count": 45,
     "metadata": {},
     "output_type": "execute_result"
    }
   ],
   "source": [
    "x.var()"
   ]
  },
  {
   "cell_type": "code",
   "execution_count": 46,
   "metadata": {},
   "outputs": [
    {
     "name": "stdout",
     "output_type": "stream",
     "text": [
      "Sélection de variables : [ True  True  True  True False False  True  True  True  True  True  True\n",
      "  True  True  True  True  True  True  True  True  True  True  True  True\n",
      "  True  True  True  True False False]\n",
      "Variables sélectionnées : ['Gender_Male', 'Senior Citizen_Yes', 'Partner_Yes', 'Dependents_Yes', 'Multiple Lines_Yes', 'Internet Service_Fiber optic', 'Internet Service_No', 'Online Security_No internet service', 'Online Security_Yes', 'Online Backup_No internet service', 'Online Backup_Yes', 'Device Protection_No internet service', 'Device Protection_Yes', 'Tech Support_No internet service', 'Tech Support_Yes', 'Streaming TV_No internet service', 'Streaming TV_Yes', 'Streaming Movies_No internet service', 'Streaming Movies_Yes', 'Contract_One year', 'Contract_Two year', 'Paperless Billing_Yes', 'Payment Method_Credit card (automatic)', 'Payment Method_Electronic check', 'Payment Method_Mailed check', 'Tenure Months']\n",
      "Variables supprimées : ['Phone Service_Yes', 'Multiple Lines_No phone service', 'Monthly Charges', 'Total Charges']\n"
     ]
    }
   ],
   "source": [
    "# Perform feature selection using a variance threshold\n",
    "from sklearn.feature_selection import VarianceThreshold\n",
    "\n",
    "sel = VarianceThreshold(threshold=(0.1))\n",
    "sel.fit(x_train)\n",
    "\n",
    "print(\"Sélection de variables :\", sel.get_support())\n",
    "print(\"Variables sélectionnées :\", list(x.columns[sel.get_support()]))\n",
    "print(\"Variables supprimées :\", list(x.columns[~sel.get_support()]))"
   ]
  },
  {
   "cell_type": "code",
   "execution_count": 47,
   "metadata": {},
   "outputs": [],
   "source": [
    "x_train = sel.transform(x_train)\n",
    "x_test = sel.transform(x_test)"
   ]
  },
  {
   "cell_type": "code",
   "execution_count": null,
   "metadata": {},
   "outputs": [],
   "source": []
  },
  {
   "cell_type": "markdown",
   "metadata": {},
   "source": [
    "## Application du modele KNeighborsClassifier"
   ]
  },
  {
   "cell_type": "code",
   "execution_count": 82,
   "metadata": {},
   "outputs": [
    {
     "data": {
      "text/plain": [
       "GridSearchCV(cv=5, estimator=KNeighborsClassifier(),\n",
       "             param_grid={'metric': ['euclidean', 'manhattan', 'minkowski'],\n",
       "                         'n_neighbors': array([ 1,  2,  3,  4,  5,  6,  7,  8,  9, 10, 11, 12, 13, 14, 15, 16, 17,\n",
       "       18, 19, 20, 21, 22, 23, 24, 25, 26, 27, 28, 29, 30, 31, 32, 33, 34,\n",
       "       35, 36, 37, 38, 39, 40, 41, 42, 43, 44, 45, 46, 47, 48, 49, 50]),\n",
       "                         'weights': ['uniform', 'distance']})"
      ]
     },
     "execution_count": 82,
     "metadata": {},
     "output_type": "execute_result"
    }
   ],
   "source": [
    "from sklearn.neighbors import KNeighborsClassifier\n",
    "from sklearn.model_selection import GridSearchCV\n",
    "\n",
    "param_grid={'n_neighbors' : np.arange(1,51),\n",
    "           'metric': ['euclidean' ,'manhattan','minkowski'],\n",
    "           'weights' :[ 'uniform','distance']} #dictionaire qui contient les paramtres qu'on veut regler\n",
    "KNeighborsClassifier()\n",
    "knn_grid=GridSearchCV(KNeighborsClassifier(),param_grid=param_grid,cv=5)\n",
    "\n",
    "knn_grid.fit(x_train,y_train)"
   ]
  },
  {
   "cell_type": "code",
   "execution_count": 83,
   "metadata": {},
   "outputs": [
    {
     "data": {
      "text/plain": [
       "{'metric': 'euclidean', 'n_neighbors': 36, 'weights': 'uniform'}"
      ]
     },
     "execution_count": 83,
     "metadata": {},
     "output_type": "execute_result"
    }
   ],
   "source": [
    "knn_grid.best_params_\n"
   ]
  },
  {
   "cell_type": "code",
   "execution_count": 50,
   "metadata": {},
   "outputs": [
    {
     "name": "stdout",
     "output_type": "stream",
     "text": [
      "score du train  0.8080048760666396\n",
      "score du test 0.7962085308056872\n"
     ]
    }
   ],
   "source": [
    "\n",
    "knn_model=KNeighborsClassifier(n_neighbors=36,metric='euclidean')\n",
    "\n",
    "knn_model.fit(x_train,y_train)\n",
    "\n",
    "print('score du train ' ,knn_model.score(x_train,y_train))\n",
    "print('score du test' ,knn_model.score(x_test,y_test))"
   ]
  },
  {
   "cell_type": "code",
   "execution_count": 21,
   "metadata": {},
   "outputs": [
    {
     "data": {
      "image/png": "[encoded data removed]",
      "text/plain": [
       "<Figure size 432x288 with 2 Axes>"
      ]
     },
     "metadata": {
      "needs_background": "light"
     },
     "output_type": "display_data"
    }
   ],
   "source": [
    "from sklearn.metrics import plot_confusion_matrix\n",
    "\n",
    "y_pred=knn_model.predict(x_test)\n",
    "plot_confusion_matrix(knn_model,x_test,y_test,cmap=plt.cm.Blues);"
   ]
  },
  {
   "cell_type": "code",
   "execution_count": 22,
   "metadata": {},
   "outputs": [
    {
     "name": "stdout",
     "output_type": "stream",
     "text": [
      "              precision    recall  f1-score   support\n",
      "\n",
      "           0   0.845584  0.883796  0.864268      1549\n",
      "           1   0.633401  0.554367  0.591255       561\n",
      "\n",
      "    accuracy                       0.796209      2110\n",
      "   macro avg   0.739492  0.719082  0.727761      2110\n",
      "weighted avg   0.789169  0.796209  0.791680      2110\n",
      "\n"
     ]
    }
   ],
   "source": [
    "from sklearn.metrics import classification_report\n",
    "\n",
    "y_pred=knn_model.predict(x_test)\n",
    "print(classification_report(y_test,y_pred,digits=6))"
   ]
  },
  {
   "cell_type": "code",
   "execution_count": 24,
   "metadata": {},
   "outputs": [],
   "source": [
    "from sklearn.metrics import roc_curve\n",
    "y_scores = knn_model.predict_proba(x_test)\n",
    "fpr, tpr, thresholds = roc_curve(y_test, y_scores[:, 1])"
   ]
  },
  {
   "cell_type": "code",
   "execution_count": 25,
   "metadata": {},
   "outputs": [
    {
     "data": {
      "image/png": "[encoded data removed]",
      "text/plain": [
       "<Figure size 720x360 with 1 Axes>"
      ]
     },
     "metadata": {
      "needs_background": "light"
     },
     "output_type": "display_data"
    }
   ],
   "source": [
    "plt.figure(figsize=(10,5))\n",
    "plt.plot(fpr, tpr, 'b')\n",
    "plt.xlim([0,1])\n",
    "plt.ylim([0,1])\n",
    "plt.xlabel('False positive rate')\n",
    "plt.ylabel('True positive rate')\n",
    "plt.plot([0,1], [0,1] , 'r')\n",
    "plt.grid(True)\n",
    "plt.show()"
   ]
  },
  {
   "cell_type": "code",
   "execution_count": 26,
   "metadata": {},
   "outputs": [
    {
     "data": {
      "text/plain": [
       "0.843316198478922"
      ]
     },
     "execution_count": 26,
     "metadata": {},
     "output_type": "execute_result"
    }
   ],
   "source": [
    "from sklearn.metrics import auc\n",
    "auc(fpr, tpr)"
   ]
  },
  {
   "cell_type": "markdown",
   "metadata": {},
   "source": [
    "## Aplication du modele DecisionTreeClassifier"
   ]
  },
  {
   "cell_type": "code",
   "execution_count": 52,
   "metadata": {},
   "outputs": [
    {
     "data": {
      "text/plain": [
       "GridSearchCV(cv=5, estimator=DecisionTreeClassifier(),\n",
       "             param_grid={'criterion': ['gini', 'entropy'],\n",
       "                         'max_depth': array([1, 2, 3, 4, 5, 6, 7, 8, 9])})"
      ]
     },
     "execution_count": 52,
     "metadata": {},
     "output_type": "execute_result"
    }
   ],
   "source": [
    "from sklearn.model_selection import GridSearchCV\n",
    "from sklearn.tree import DecisionTreeClassifier\n",
    "\n",
    "param={'criterion': ['gini','entropy'],    \n",
    "      'max_depth' :np.arange(1,10)\n",
    "      } \n",
    "\n",
    "tree_grid= GridSearchCV(DecisionTreeClassifier(),param_grid=param,cv=5)\n",
    "tree_grid.fit(x_train,y_train)"
   ]
  },
  {
   "cell_type": "code",
   "execution_count": 53,
   "metadata": {},
   "outputs": [
    {
     "data": {
      "text/plain": [
       "{'criterion': 'gini', 'max_depth': 6}"
      ]
     },
     "execution_count": 53,
     "metadata": {},
     "output_type": "execute_result"
    }
   ],
   "source": [
    "tree_grid.best_params_"
   ]
  },
  {
   "cell_type": "code",
   "execution_count": 54,
   "metadata": {},
   "outputs": [
    {
     "name": "stdout",
     "output_type": "stream",
     "text": [
      "train score :  0.8228362454286875\n",
      "test score :  0.79478672985782\n"
     ]
    }
   ],
   "source": [
    "tree_model=DecisionTreeClassifier(criterion='gini',max_depth=7,random_state=0)\n",
    "tree_model.fit(x_train,y_train)\n",
    "print('train score : ', tree_model.score(x_train,y_train))\n",
    "print('test score : ', tree_model.score(x_test,y_test))"
   ]
  },
  {
   "cell_type": "code",
   "execution_count": 55,
   "metadata": {},
   "outputs": [
    {
     "data": {
      "image/png": "[encoded data removed]",
      "text/plain": [
       "<Figure size 432x288 with 2 Axes>"
      ]
     },
     "metadata": {
      "needs_background": "light"
     },
     "output_type": "display_data"
    }
   ],
   "source": [
    "from sklearn.metrics import plot_confusion_matrix\n",
    "\n",
    "plot_confusion_matrix(tree_model,x_test,y_test,cmap=plt.cm.Blues);"
   ]
  },
  {
   "cell_type": "code",
   "execution_count": 56,
   "metadata": {},
   "outputs": [
    {
     "name": "stdout",
     "output_type": "stream",
     "text": [
      "              precision    recall  f1-score   support\n",
      "\n",
      "           0   0.843173  0.885087  0.863622      1549\n",
      "           1   0.632231  0.545455  0.585646       561\n",
      "\n",
      "    accuracy                       0.794787      2110\n",
      "   macro avg   0.737702  0.715271  0.724634      2110\n",
      "weighted avg   0.787089  0.794787  0.789715      2110\n",
      "\n"
     ]
    }
   ],
   "source": [
    "from sklearn.metrics import classification_report\n",
    "\n",
    "y_pred=tree_model.predict(x_test)\n",
    "print(classification_report(y_test,y_pred,digits=6))"
   ]
  },
  {
   "cell_type": "code",
   "execution_count": 60,
   "metadata": {},
   "outputs": [],
   "source": [
    "from sklearn.metrics import roc_curve\n",
    "y_scores = tree_model.predict_proba(x_test)\n",
    "fpr, tpr, thresholds = roc_curve(y_test, y_scores[:, 1])"
   ]
  },
  {
   "cell_type": "code",
   "execution_count": 61,
   "metadata": {},
   "outputs": [
    {
     "data": {
      "image/png": "[encoded data removed]",
      "text/plain": [
       "<Figure size 720x360 with 1 Axes>"
      ]
     },
     "metadata": {
      "needs_background": "light"
     },
     "output_type": "display_data"
    }
   ],
   "source": [
    "plt.figure(figsize=(10,5))\n",
    "plt.plot(fpr, tpr, 'b')\n",
    "plt.xlim([0,1])\n",
    "plt.ylim([0,1])\n",
    "plt.xlabel('False positive rate')\n",
    "plt.ylabel('True positive rate')\n",
    "plt.plot([0,1], [0,1] , 'r')\n",
    "plt.grid(True)\n",
    "plt.show()"
   ]
  },
  {
   "cell_type": "code",
   "execution_count": 62,
   "metadata": {},
   "outputs": [
    {
     "data": {
      "text/plain": [
       "0.8366544340607304"
      ]
     },
     "execution_count": 62,
     "metadata": {},
     "output_type": "execute_result"
    }
   ],
   "source": [
    "from sklearn.metrics import auc\n",
    "auc(fpr, tpr)"
   ]
  },
  {
   "cell_type": "code",
   "execution_count": 77,
   "metadata": {},
   "outputs": [],
   "source": [
    "names=['Gender_Male', 'Senior Citizen_Yes', 'Partner_Yes', 'Dependents_Yes', 'Multiple Lines_Yes', 'Internet Service_Fiber optic', 'Internet Service_No', 'Online Security_No internet service', 'Online Security_Yes', 'Online Backup_No internet service', 'Online Backup_Yes', 'Device Protection_No internet service', 'Device Protection_Yes', 'Tech Support_No internet service', 'Tech Support_Yes', 'Streaming TV_No internet service', 'Streaming TV_Yes', 'Streaming Movies_No internet service', 'Streaming Movies_Yes', 'Contract_One year', 'Contract_Two year', 'Paperless Billing_Yes', 'Payment Method_Credit card (automatic)', 'Payment Method_Electronic check', 'Payment Method_Mailed check', 'Tenure Months']"
   ]
  },
  {
   "cell_type": "code",
   "execution_count": 78,
   "metadata": {},
   "outputs": [
    {
     "name": "stdout",
     "output_type": "stream",
     "text": [
      "Gender_Male 0.007666145034780716\n",
      "Senior Citizen_Yes 0.009452872324020223\n",
      "Partner_Yes 0.018886903876716425\n",
      "Dependents_Yes 0.08055909398487426\n",
      "Multiple Lines_Yes 0.01727305362262878\n",
      "Internet Service_Fiber optic 0.2634531629036648\n",
      "Online Security_Yes 0.011465972572995857\n",
      "Online Backup_Yes 0.007167648492966352\n",
      "Device Protection_No internet service 0.021455764451167265\n",
      "Device Protection_Yes 0.001796345800704752\n",
      "Tech Support_Yes 0.011144612211463486\n",
      "Streaming TV_No internet service 0.013679283059078201\n",
      "Streaming TV_Yes 0.01622794386855758\n",
      "Streaming Movies_No internet service 0.00512427540357625\n",
      "Streaming Movies_Yes 0.013257769317850028\n",
      "Contract_One year 0.02188742628074672\n",
      "Contract_Two year 0.010938562899963648\n",
      "Paperless Billing_Yes 0.0035131785331520664\n",
      "Payment Method_Credit card (automatic) 0.0016341185722463032\n",
      "Payment Method_Electronic check 0.027301043043495433\n",
      "Payment Method_Mailed check 0.006140889669474764\n",
      "Tenure Months 0.4299739340758761\n"
     ]
    }
   ],
   "source": [
    "for var, importance in zip(names, tree_model.feature_importances_):\n",
    "    if importance != 0:\n",
    "        print(var, importance)"
   ]
  },
  {
   "cell_type": "code",
   "execution_count": 79,
   "metadata": {},
   "outputs": [
    {
     "data": {
      "image/png": "[encoded data removed]",
      "text/plain": [
       "<Figure size 1440x720 with 1 Axes>"
      ]
     },
     "metadata": {
      "needs_background": "light"
     },
     "output_type": "display_data"
    }
   ],
   "source": [
    "from sklearn.tree import plot_tree\n",
    "plt.figure(figsize=(20,10))\n",
    "c=['quitter', 'rester']\n",
    "plot_tree(tree_model, feature_names= names, class_names=c, filled=True)\n",
    "plt.show()"
   ]
  },
  {
   "cell_type": "code",
   "execution_count": 80,
   "metadata": {},
   "outputs": [
    {
     "name": "stdout",
     "output_type": "stream",
     "text": [
      "|--- Tenure Months <= 0.22\n",
      "|   |--- Internet Service_Fiber optic <= 0.50\n",
      "|   |   |--- Tenure Months <= 0.04\n",
      "|   |   |   |--- Device Protection_No internet service <= 0.50\n",
      "|   |   |   |   |--- Senior Citizen_Yes <= 0.50\n",
      "|   |   |   |   |   |--- Payment Method_Electronic check <= 0.50\n",
      "|   |   |   |   |   |   |--- Tenure Months <= 0.01\n",
      "|   |   |   |   |   |   |   |--- class: 1\n",
      "|   |   |   |   |   |   |--- Tenure Months >  0.01\n",
      "|   |   |   |   |   |   |   |--- class: 0\n",
      "|   |   |   |   |   |--- Payment Method_Electronic check >  0.50\n",
      "|   |   |   |   |   |   |--- Streaming Movies_Yes <= 0.50\n",
      "|   |   |   |   |   |   |   |--- class: 1\n",
      "|   |   |   |   |   |   |--- Streaming Movies_Yes >  0.50\n",
      "|   |   |   |   |   |   |   |--- class: 1\n",
      "|   |   |   |   |--- Senior Citizen_Yes >  0.50\n",
      "|   |   |   |   |   |--- Online Security_Yes <= 0.50\n",
      "|   |   |   |   |   |   |--- Paperless Billing_Yes <= 0.50\n",
      "|   |   |   |   |   |   |   |--- class: 1\n",
      "|   |   |   |   |   |   |--- Paperless Billing_Yes >  0.50\n",
      "|   |   |   |   |   |   |   |--- class: 1\n",
      "|   |   |   |   |   |--- Online Security_Yes >  0.50\n",
      "|   |   |   |   |   |   |--- class: 1\n",
      "|   |   |   |--- Device Protection_No internet service >  0.50\n",
      "|   |   |   |   |--- Tenure Months <= 0.01\n",
      "|   |   |   |   |   |--- Senior Citizen_Yes <= 0.50\n",
      "|   |   |   |   |   |   |--- Paperless Billing_Yes <= 0.50\n",
      "|   |   |   |   |   |   |   |--- class: 0\n",
      "|   |   |   |   |   |   |--- Paperless Billing_Yes >  0.50\n",
      "|   |   |   |   |   |   |   |--- class: 0\n",
      "|   |   |   |   |   |--- Senior Citizen_Yes >  0.50\n",
      "|   |   |   |   |   |   |--- class: 1\n",
      "|   |   |   |   |--- Tenure Months >  0.01\n",
      "|   |   |   |   |   |--- Payment Method_Credit card (automatic) <= 0.50\n",
      "|   |   |   |   |   |   |--- Gender_Male <= 0.50\n",
      "|   |   |   |   |   |   |   |--- class: 0\n",
      "|   |   |   |   |   |   |--- Gender_Male >  0.50\n",
      "|   |   |   |   |   |   |   |--- class: 0\n",
      "|   |   |   |   |   |--- Payment Method_Credit card (automatic) >  0.50\n",
      "|   |   |   |   |   |   |--- Partner_Yes <= 0.50\n",
      "|   |   |   |   |   |   |   |--- class: 0\n",
      "|   |   |   |   |   |   |--- Partner_Yes >  0.50\n",
      "|   |   |   |   |   |   |   |--- class: 1\n",
      "|   |   |--- Tenure Months >  0.04\n",
      "|   |   |   |--- Streaming TV_No internet service <= 0.50\n",
      "|   |   |   |   |--- Payment Method_Electronic check <= 0.50\n",
      "|   |   |   |   |   |--- Tenure Months <= 0.06\n",
      "|   |   |   |   |   |   |--- Online Security_Yes <= 0.50\n",
      "|   |   |   |   |   |   |   |--- class: 0\n",
      "|   |   |   |   |   |   |--- Online Security_Yes >  0.50\n",
      "|   |   |   |   |   |   |   |--- class: 0\n",
      "|   |   |   |   |   |--- Tenure Months >  0.06\n",
      "|   |   |   |   |   |   |--- Dependents_Yes <= 0.50\n",
      "|   |   |   |   |   |   |   |--- class: 0\n",
      "|   |   |   |   |   |   |--- Dependents_Yes >  0.50\n",
      "|   |   |   |   |   |   |   |--- class: 0\n",
      "|   |   |   |   |--- Payment Method_Electronic check >  0.50\n",
      "|   |   |   |   |   |--- Online Backup_Yes <= 0.50\n",
      "|   |   |   |   |   |   |--- Online Security_Yes <= 0.50\n",
      "|   |   |   |   |   |   |   |--- class: 1\n",
      "|   |   |   |   |   |   |--- Online Security_Yes >  0.50\n",
      "|   |   |   |   |   |   |   |--- class: 0\n",
      "|   |   |   |   |   |--- Online Backup_Yes >  0.50\n",
      "|   |   |   |   |   |   |--- Tech Support_Yes <= 0.50\n",
      "|   |   |   |   |   |   |   |--- class: 0\n",
      "|   |   |   |   |   |   |--- Tech Support_Yes >  0.50\n",
      "|   |   |   |   |   |   |   |--- class: 0\n",
      "|   |   |   |--- Streaming TV_No internet service >  0.50\n",
      "|   |   |   |   |--- Dependents_Yes <= 0.50\n",
      "|   |   |   |   |   |--- Contract_One year <= 0.50\n",
      "|   |   |   |   |   |   |--- Partner_Yes <= 0.50\n",
      "|   |   |   |   |   |   |   |--- class: 0\n",
      "|   |   |   |   |   |   |--- Partner_Yes >  0.50\n",
      "|   |   |   |   |   |   |   |--- class: 0\n",
      "|   |   |   |   |   |--- Contract_One year >  0.50\n",
      "|   |   |   |   |   |   |--- Partner_Yes <= 0.50\n",
      "|   |   |   |   |   |   |   |--- class: 0\n",
      "|   |   |   |   |   |   |--- Partner_Yes >  0.50\n",
      "|   |   |   |   |   |   |   |--- class: 0\n",
      "|   |   |   |   |--- Dependents_Yes >  0.50\n",
      "|   |   |   |   |   |--- Payment Method_Electronic check <= 0.50\n",
      "|   |   |   |   |   |   |--- Multiple Lines_Yes <= 0.50\n",
      "|   |   |   |   |   |   |   |--- class: 0\n",
      "|   |   |   |   |   |   |--- Multiple Lines_Yes >  0.50\n",
      "|   |   |   |   |   |   |   |--- class: 0\n",
      "|   |   |   |   |   |--- Payment Method_Electronic check >  0.50\n",
      "|   |   |   |   |   |   |--- Tenure Months <= 0.18\n",
      "|   |   |   |   |   |   |   |--- class: 0\n",
      "|   |   |   |   |   |   |--- Tenure Months >  0.18\n",
      "|   |   |   |   |   |   |   |--- class: 0\n",
      "|   |--- Internet Service_Fiber optic >  0.50\n",
      "|   |   |--- Tenure Months <= 0.01\n",
      "|   |   |   |--- Tech Support_Yes <= 0.50\n",
      "|   |   |   |   |--- Dependents_Yes <= 0.50\n",
      "|   |   |   |   |   |--- Streaming Movies_Yes <= 0.50\n",
      "|   |   |   |   |   |   |--- Partner_Yes <= 0.50\n",
      "|   |   |   |   |   |   |   |--- class: 1\n",
      "|   |   |   |   |   |   |--- Partner_Yes >  0.50\n",
      "|   |   |   |   |   |   |   |--- class: 1\n",
      "|   |   |   |   |   |--- Streaming Movies_Yes >  0.50\n",
      "|   |   |   |   |   |   |--- Gender_Male <= 0.50\n",
      "|   |   |   |   |   |   |   |--- class: 1\n",
      "|   |   |   |   |   |   |--- Gender_Male >  0.50\n",
      "|   |   |   |   |   |   |   |--- class: 1\n",
      "|   |   |   |   |--- Dependents_Yes >  0.50\n",
      "|   |   |   |   |   |--- Payment Method_Mailed check <= 0.50\n",
      "|   |   |   |   |   |   |--- Partner_Yes <= 0.50\n",
      "|   |   |   |   |   |   |   |--- class: 1\n",
      "|   |   |   |   |   |   |--- Partner_Yes >  0.50\n",
      "|   |   |   |   |   |   |   |--- class: 0\n",
      "|   |   |   |   |   |--- Payment Method_Mailed check >  0.50\n",
      "|   |   |   |   |   |   |--- class: 1\n",
      "|   |   |   |--- Tech Support_Yes >  0.50\n",
      "|   |   |   |   |--- Streaming TV_Yes <= 0.50\n",
      "|   |   |   |   |   |--- class: 0\n",
      "|   |   |   |   |--- Streaming TV_Yes >  0.50\n",
      "|   |   |   |   |   |--- Streaming Movies_Yes <= 0.50\n",
      "|   |   |   |   |   |   |--- class: 1\n",
      "|   |   |   |   |   |--- Streaming Movies_Yes >  0.50\n",
      "|   |   |   |   |   |   |--- class: 0\n",
      "|   |   |--- Tenure Months >  0.01\n",
      "|   |   |   |--- Dependents_Yes <= 0.50\n",
      "|   |   |   |   |--- Streaming TV_Yes <= 0.50\n",
      "|   |   |   |   |   |--- Multiple Lines_Yes <= 0.50\n",
      "|   |   |   |   |   |   |--- Gender_Male <= 0.50\n",
      "|   |   |   |   |   |   |   |--- class: 1\n",
      "|   |   |   |   |   |   |--- Gender_Male >  0.50\n",
      "|   |   |   |   |   |   |   |--- class: 0\n",
      "|   |   |   |   |   |--- Multiple Lines_Yes >  0.50\n",
      "|   |   |   |   |   |   |--- Online Security_Yes <= 0.50\n",
      "|   |   |   |   |   |   |   |--- class: 1\n",
      "|   |   |   |   |   |   |--- Online Security_Yes >  0.50\n",
      "|   |   |   |   |   |   |   |--- class: 0\n",
      "|   |   |   |   |--- Streaming TV_Yes >  0.50\n",
      "|   |   |   |   |   |--- Tenure Months <= 0.19\n",
      "|   |   |   |   |   |   |--- Multiple Lines_Yes <= 0.50\n",
      "|   |   |   |   |   |   |   |--- class: 1\n",
      "|   |   |   |   |   |   |--- Multiple Lines_Yes >  0.50\n",
      "|   |   |   |   |   |   |   |--- class: 1\n",
      "|   |   |   |   |   |--- Tenure Months >  0.19\n",
      "|   |   |   |   |   |   |--- Payment Method_Electronic check <= 0.50\n",
      "|   |   |   |   |   |   |   |--- class: 0\n",
      "|   |   |   |   |   |   |--- Payment Method_Electronic check >  0.50\n",
      "|   |   |   |   |   |   |   |--- class: 1\n",
      "|   |   |   |--- Dependents_Yes >  0.50\n",
      "|   |   |   |   |--- Partner_Yes <= 0.50\n",
      "|   |   |   |   |   |--- Tech Support_Yes <= 0.50\n",
      "|   |   |   |   |   |   |--- Senior Citizen_Yes <= 0.50\n",
      "|   |   |   |   |   |   |   |--- class: 1\n",
      "|   |   |   |   |   |   |--- Senior Citizen_Yes >  0.50\n",
      "|   |   |   |   |   |   |   |--- class: 1\n",
      "|   |   |   |   |   |--- Tech Support_Yes >  0.50\n",
      "|   |   |   |   |   |   |--- class: 0\n",
      "|   |   |   |   |--- Partner_Yes >  0.50\n",
      "|   |   |   |   |   |--- Tenure Months <= 0.11\n",
      "|   |   |   |   |   |   |--- Multiple Lines_Yes <= 0.50\n",
      "|   |   |   |   |   |   |   |--- class: 0\n",
      "|   |   |   |   |   |   |--- Multiple Lines_Yes >  0.50\n",
      "|   |   |   |   |   |   |   |--- class: 1\n",
      "|   |   |   |   |   |--- Tenure Months >  0.11\n",
      "|   |   |   |   |   |   |--- class: 0\n",
      "|--- Tenure Months >  0.22\n",
      "|   |--- Internet Service_Fiber optic <= 0.50\n",
      "|   |   |--- Contract_Two year <= 0.50\n",
      "|   |   |   |--- Streaming Movies_No internet service <= 0.50\n",
      "|   |   |   |   |--- Contract_One year <= 0.50\n",
      "|   |   |   |   |   |--- Payment Method_Mailed check <= 0.50\n",
      "|   |   |   |   |   |   |--- Dependents_Yes <= 0.50\n",
      "|   |   |   |   |   |   |   |--- class: 0\n",
      "|   |   |   |   |   |   |--- Dependents_Yes >  0.50\n",
      "|   |   |   |   |   |   |   |--- class: 0\n",
      "|   |   |   |   |   |--- Payment Method_Mailed check >  0.50\n",
      "|   |   |   |   |   |   |--- Senior Citizen_Yes <= 0.50\n",
      "|   |   |   |   |   |   |   |--- class: 0\n",
      "|   |   |   |   |   |   |--- Senior Citizen_Yes >  0.50\n",
      "|   |   |   |   |   |   |   |--- class: 0\n",
      "|   |   |   |   |--- Contract_One year >  0.50\n",
      "|   |   |   |   |   |--- Dependents_Yes <= 0.50\n",
      "|   |   |   |   |   |   |--- Streaming Movies_Yes <= 0.50\n",
      "|   |   |   |   |   |   |   |--- class: 0\n",
      "|   |   |   |   |   |   |--- Streaming Movies_Yes >  0.50\n",
      "|   |   |   |   |   |   |   |--- class: 0\n",
      "|   |   |   |   |   |--- Dependents_Yes >  0.50\n",
      "|   |   |   |   |   |   |--- class: 0\n",
      "|   |   |   |--- Streaming Movies_No internet service >  0.50\n",
      "|   |   |   |   |--- Tenure Months <= 0.73\n",
      "|   |   |   |   |   |--- Payment Method_Electronic check <= 0.50\n",
      "|   |   |   |   |   |   |--- Multiple Lines_Yes <= 0.50\n",
      "|   |   |   |   |   |   |   |--- class: 0\n",
      "|   |   |   |   |   |   |--- Multiple Lines_Yes >  0.50\n",
      "|   |   |   |   |   |   |   |--- class: 0\n",
      "|   |   |   |   |   |--- Payment Method_Electronic check >  0.50\n",
      "|   |   |   |   |   |   |--- Tenure Months <= 0.28\n",
      "|   |   |   |   |   |   |   |--- class: 0\n",
      "|   |   |   |   |   |   |--- Tenure Months >  0.28\n",
      "|   |   |   |   |   |   |   |--- class: 0\n",
      "|   |   |   |   |--- Tenure Months >  0.73\n",
      "|   |   |   |   |   |--- Contract_One year <= 0.50\n",
      "|   |   |   |   |   |   |--- Payment Method_Mailed check <= 0.50\n",
      "|   |   |   |   |   |   |   |--- class: 0\n",
      "|   |   |   |   |   |   |--- Payment Method_Mailed check >  0.50\n",
      "|   |   |   |   |   |   |   |--- class: 1\n",
      "|   |   |   |   |   |--- Contract_One year >  0.50\n",
      "|   |   |   |   |   |   |--- Tenure Months <= 0.78\n",
      "|   |   |   |   |   |   |   |--- class: 0\n",
      "|   |   |   |   |   |   |--- Tenure Months >  0.78\n",
      "|   |   |   |   |   |   |   |--- class: 0\n",
      "|   |   |--- Contract_Two year >  0.50\n",
      "|   |   |   |--- Senior Citizen_Yes <= 0.50\n",
      "|   |   |   |   |--- Payment Method_Electronic check <= 0.50\n",
      "|   |   |   |   |   |--- Tenure Months <= 0.78\n",
      "|   |   |   |   |   |   |--- Tenure Months <= 0.75\n",
      "|   |   |   |   |   |   |   |--- class: 0\n",
      "|   |   |   |   |   |   |--- Tenure Months >  0.75\n",
      "|   |   |   |   |   |   |   |--- class: 0\n",
      "|   |   |   |   |   |--- Tenure Months >  0.78\n",
      "|   |   |   |   |   |   |--- Payment Method_Credit card (automatic) <= 0.50\n",
      "|   |   |   |   |   |   |   |--- class: 0\n",
      "|   |   |   |   |   |   |--- Payment Method_Credit card (automatic) >  0.50\n",
      "|   |   |   |   |   |   |   |--- class: 0\n",
      "|   |   |   |   |--- Payment Method_Electronic check >  0.50\n",
      "|   |   |   |   |   |--- Tenure Months <= 0.88\n",
      "|   |   |   |   |   |   |--- class: 0\n",
      "|   |   |   |   |   |--- Tenure Months >  0.88\n",
      "|   |   |   |   |   |   |--- Tech Support_Yes <= 0.50\n",
      "|   |   |   |   |   |   |   |--- class: 0\n",
      "|   |   |   |   |   |   |--- Tech Support_Yes >  0.50\n",
      "|   |   |   |   |   |   |   |--- class: 0\n",
      "|   |   |   |--- Senior Citizen_Yes >  0.50\n",
      "|   |   |   |   |--- Streaming TV_Yes <= 0.50\n",
      "|   |   |   |   |   |--- class: 0\n",
      "|   |   |   |   |--- Streaming TV_Yes >  0.50\n",
      "|   |   |   |   |   |--- Tenure Months <= 0.94\n",
      "|   |   |   |   |   |   |--- Tenure Months <= 0.87\n",
      "|   |   |   |   |   |   |   |--- class: 0\n",
      "|   |   |   |   |   |   |--- Tenure Months >  0.87\n",
      "|   |   |   |   |   |   |   |--- class: 1\n",
      "|   |   |   |   |   |--- Tenure Months >  0.94\n",
      "|   |   |   |   |   |   |--- Paperless Billing_Yes <= 0.50\n",
      "|   |   |   |   |   |   |   |--- class: 0\n",
      "|   |   |   |   |   |   |--- Paperless Billing_Yes >  0.50\n",
      "|   |   |   |   |   |   |   |--- class: 0\n",
      "|   |--- Internet Service_Fiber optic >  0.50\n",
      "|   |   |--- Dependents_Yes <= 0.50\n",
      "|   |   |   |--- Tenure Months <= 0.60\n",
      "|   |   |   |   |--- Contract_One year <= 0.50\n",
      "|   |   |   |   |   |--- Payment Method_Electronic check <= 0.50\n",
      "|   |   |   |   |   |   |--- Partner_Yes <= 0.50\n",
      "|   |   |   |   |   |   |   |--- class: 0\n",
      "|   |   |   |   |   |   |--- Partner_Yes >  0.50\n",
      "|   |   |   |   |   |   |   |--- class: 1\n",
      "|   |   |   |   |   |--- Payment Method_Electronic check >  0.50\n",
      "|   |   |   |   |   |   |--- Multiple Lines_Yes <= 0.50\n",
      "|   |   |   |   |   |   |   |--- class: 0\n",
      "|   |   |   |   |   |   |--- Multiple Lines_Yes >  0.50\n",
      "|   |   |   |   |   |   |   |--- class: 1\n",
      "|   |   |   |   |--- Contract_One year >  0.50\n",
      "|   |   |   |   |   |--- Streaming TV_Yes <= 0.50\n",
      "|   |   |   |   |   |   |--- Gender_Male <= 0.50\n",
      "|   |   |   |   |   |   |   |--- class: 0\n",
      "|   |   |   |   |   |   |--- Gender_Male >  0.50\n",
      "|   |   |   |   |   |   |   |--- class: 0\n",
      "|   |   |   |   |   |--- Streaming TV_Yes >  0.50\n",
      "|   |   |   |   |   |   |--- Tenure Months <= 0.58\n",
      "|   |   |   |   |   |   |   |--- class: 0\n",
      "|   |   |   |   |   |   |--- Tenure Months >  0.58\n",
      "|   |   |   |   |   |   |   |--- class: 1\n",
      "|   |   |   |--- Tenure Months >  0.60\n",
      "|   |   |   |   |--- Tenure Months <= 0.98\n",
      "|   |   |   |   |   |--- Streaming Movies_Yes <= 0.50\n",
      "|   |   |   |   |   |   |--- Payment Method_Electronic check <= 0.50\n",
      "|   |   |   |   |   |   |   |--- class: 0\n",
      "|   |   |   |   |   |   |--- Payment Method_Electronic check >  0.50\n",
      "|   |   |   |   |   |   |   |--- class: 0\n",
      "|   |   |   |   |   |--- Streaming Movies_Yes >  0.50\n",
      "|   |   |   |   |   |   |--- Contract_Two year <= 0.50\n",
      "|   |   |   |   |   |   |   |--- class: 0\n",
      "|   |   |   |   |   |   |--- Contract_Two year >  0.50\n",
      "|   |   |   |   |   |   |   |--- class: 0\n",
      "|   |   |   |   |--- Tenure Months >  0.98\n",
      "|   |   |   |   |   |--- Online Security_Yes <= 0.50\n",
      "|   |   |   |   |   |   |--- Payment Method_Credit card (automatic) <= 0.50\n",
      "|   |   |   |   |   |   |   |--- class: 0\n",
      "|   |   |   |   |   |   |--- Payment Method_Credit card (automatic) >  0.50\n",
      "|   |   |   |   |   |   |   |--- class: 0\n",
      "|   |   |   |   |   |--- Online Security_Yes >  0.50\n",
      "|   |   |   |   |   |   |--- class: 0\n",
      "|   |   |--- Dependents_Yes >  0.50\n",
      "|   |   |   |--- Partner_Yes <= 0.50\n",
      "|   |   |   |   |--- Device Protection_Yes <= 0.50\n",
      "|   |   |   |   |   |--- class: 0\n",
      "|   |   |   |   |--- Device Protection_Yes >  0.50\n",
      "|   |   |   |   |   |--- Online Backup_Yes <= 0.50\n",
      "|   |   |   |   |   |   |--- Tenure Months <= 0.61\n",
      "|   |   |   |   |   |   |   |--- class: 1\n",
      "|   |   |   |   |   |   |--- Tenure Months >  0.61\n",
      "|   |   |   |   |   |   |   |--- class: 0\n",
      "|   |   |   |   |   |--- Online Backup_Yes >  0.50\n",
      "|   |   |   |   |   |   |--- Gender_Male <= 0.50\n",
      "|   |   |   |   |   |   |   |--- class: 0\n",
      "|   |   |   |   |   |   |--- Gender_Male >  0.50\n",
      "|   |   |   |   |   |   |   |--- class: 0\n",
      "|   |   |   |--- Partner_Yes >  0.50\n",
      "|   |   |   |   |--- Payment Method_Electronic check <= 0.50\n",
      "|   |   |   |   |   |--- class: 0\n",
      "|   |   |   |   |--- Payment Method_Electronic check >  0.50\n",
      "|   |   |   |   |   |--- Tenure Months <= 0.28\n",
      "|   |   |   |   |   |   |--- Streaming Movies_Yes <= 0.50\n",
      "|   |   |   |   |   |   |   |--- class: 1\n",
      "|   |   |   |   |   |   |--- Streaming Movies_Yes >  0.50\n",
      "|   |   |   |   |   |   |   |--- class: 0\n",
      "|   |   |   |   |   |--- Tenure Months >  0.28\n",
      "|   |   |   |   |   |   |--- Senior Citizen_Yes <= 0.50\n",
      "|   |   |   |   |   |   |   |--- class: 0\n",
      "|   |   |   |   |   |   |--- Senior Citizen_Yes >  0.50\n",
      "|   |   |   |   |   |   |   |--- class: 0\n",
      "\n"
     ]
    }
   ],
   "source": [
    "from sklearn.tree import export_text\n",
    "\n",
    "print(export_text(tree_model,feature_names=names))"
   ]
  },
  {
   "cell_type": "markdown",
   "metadata": {},
   "source": [
    "## Application du modele NaiveBayes"
   ]
  },
  {
   "cell_type": "code",
   "execution_count": 18,
   "metadata": {},
   "outputs": [
    {
     "data": {
      "text/plain": [
       "{'gaussian': 0.694220420122983,\n",
       " 'bernoulli': 0.7352612356072801,\n",
       " 'multinomial': 0.7421707729767653}"
      ]
     },
     "execution_count": 18,
     "metadata": {},
     "output_type": "execute_result"
    }
   ],
   "source": [
    "from sklearn.naive_bayes import MultinomialNB, GaussianNB, BernoulliNB\n",
    "from sklearn.model_selection import cross_val_score\n",
    "from sklearn.metrics import accuracy_score\n",
    "\n",
    "nb = {'gaussian': GaussianNB(),\n",
    "      'bernoulli': BernoulliNB(),\n",
    "      'multinomial': MultinomialNB()}\n",
    "scores = {}\n",
    "for key, model in nb.items():   #nb.items; parcourir cle et valeur\n",
    "    s = cross_val_score(model, x_train, y_train, cv=5, scoring='accuracy')\n",
    "    scores[key] = np.mean(s)\n",
    "scores"
   ]
  },
  {
   "cell_type": "code",
   "execution_count": 27,
   "metadata": {},
   "outputs": [
    {
     "name": "stdout",
     "output_type": "stream",
     "text": [
      "train score :  0.7423811458756603\n",
      "test score :  0.7568720379146919\n"
     ]
    }
   ],
   "source": [
    "bayes_model = MultinomialNB()\n",
    "bayes_model.fit(x_train, y_train)\n",
    "print('train score : ' ,bayes_model.score(x_train,y_train))\n",
    "print('test score : ' , bayes_model.score(x_test,y_test))"
   ]
  },
  {
   "cell_type": "code",
   "execution_count": 28,
   "metadata": {},
   "outputs": [
    {
     "data": {
      "image/png": "[encoded data removed]",
      "text/plain": [
       "<Figure size 432x288 with 2 Axes>"
      ]
     },
     "metadata": {
      "needs_background": "light"
     },
     "output_type": "display_data"
    }
   ],
   "source": [
    "from sklearn.metrics import plot_confusion_matrix\n",
    "\n",
    "\n",
    "plot_confusion_matrix(bayes_model,x_test,y_test,cmap=plt.cm.Blues);"
   ]
  },
  {
   "cell_type": "code",
   "execution_count": 22,
   "metadata": {},
   "outputs": [
    {
     "name": "stdout",
     "output_type": "stream",
     "text": [
      "              precision    recall  f1-score   support\n",
      "\n",
      "           0    0.89482   0.75791   0.82069      1549\n",
      "           1    0.53008   0.75401   0.62252       561\n",
      "\n",
      "    accuracy                        0.75687      2110\n",
      "   macro avg    0.71245   0.75596   0.72160      2110\n",
      "weighted avg    0.79784   0.75687   0.76800      2110\n",
      "\n"
     ]
    }
   ],
   "source": [
    "from sklearn.metrics import classification_report\n",
    "\n",
    "y_predi=bayes_model.predict(x_test)\n",
    "\n",
    "print(classification_report(y_test,y_predi,digits=5))"
   ]
  },
  {
   "cell_type": "code",
   "execution_count": 30,
   "metadata": {},
   "outputs": [],
   "source": [
    "from sklearn.metrics import roc_curve\n",
    "y_scores = bayes_model.predict_proba(x_test)\n",
    "fpr, tpr, thresholds = roc_curve(y_test, y_scores[:, 1])"
   ]
  },
  {
   "cell_type": "code",
   "execution_count": 31,
   "metadata": {},
   "outputs": [
    {
     "data": {
      "image/png": "[encoded data removed]",
      "text/plain": [
       "<Figure size 720x360 with 1 Axes>"
      ]
     },
     "metadata": {
      "needs_background": "light"
     },
     "output_type": "display_data"
    }
   ],
   "source": [
    "plt.figure(figsize=(10,5))\n",
    "plt.plot(fpr, tpr, 'b')\n",
    "plt.xlim([0,1])\n",
    "plt.ylim([0,1])\n",
    "plt.xlabel('False positive rate')\n",
    "plt.ylabel('True positive rate')\n",
    "plt.plot([0,1], [0,1] , 'r')\n",
    "plt.grid(True)\n",
    "plt.show()"
   ]
  },
  {
   "cell_type": "code",
   "execution_count": 32,
   "metadata": {},
   "outputs": [
    {
     "data": {
      "text/plain": [
       "0.8192278613423185"
      ]
     },
     "execution_count": 32,
     "metadata": {},
     "output_type": "execute_result"
    }
   ],
   "source": [
    "from sklearn.metrics import auc\n",
    "auc(fpr, tpr)"
   ]
  },
  {
   "cell_type": "markdown",
   "metadata": {},
   "source": [
    "## Aplication du modele LogisticRegression"
   ]
  },
  {
   "cell_type": "code",
   "execution_count": 104,
   "metadata": {},
   "outputs": [
    {
     "data": {
      "text/plain": [
       "GridSearchCV(cv=5, estimator=LogisticRegression(random_state=0), n_jobs=-1,\n",
       "             param_grid={'C': array([ 0.        ,  0.1010101 ,  0.2020202 ,  0.3030303 ,  0.4040404 ,\n",
       "        0.50505051,  0.60606061,  0.70707071,  0.80808081,  0.90909091,\n",
       "        1.01010101,  1.11111111,  1.21212121,  1.31313131,  1.41414141,\n",
       "        1.51515152,  1.61616162,  1.71717172,  1.81818182,  1.91919192,\n",
       "        2.02020202,  2.12121212,  2.22222222,  2.32323232,  2....\n",
       "        7.57575758,  7.67676768,  7.77777778,  7.87878788,  7.97979798,\n",
       "        8.08080808,  8.18181818,  8.28282828,  8.38383838,  8.48484848,\n",
       "        8.58585859,  8.68686869,  8.78787879,  8.88888889,  8.98989899,\n",
       "        9.09090909,  9.19191919,  9.29292929,  9.39393939,  9.49494949,\n",
       "        9.5959596 ,  9.6969697 ,  9.7979798 ,  9.8989899 , 10.        ]),\n",
       "                         'max_iter': [100, 1000, 2000, 3000],\n",
       "                         'penalty': ['l1', 'l2', 'elasticnet', 'none'],\n",
       "                         'solver': ['lbfgs', 'liblinear', 'sag', 'saga']})"
      ]
     },
     "execution_count": 104,
     "metadata": {},
     "output_type": "execute_result"
    }
   ],
   "source": [
    "from sklearn.linear_model import LogisticRegression\n",
    "from sklearn.model_selection import GridSearchCV\n",
    "\n",
    "\n",
    "log = LogisticRegression(random_state=0)\n",
    "param =  {'penalty': ['l1', 'l2', 'elasticnet', 'none'],\n",
    "          'C' : np.linspace(0,10, 100),\n",
    "          'solver': ['lbfgs', 'liblinear', 'sag', 'saga'],\n",
    "          'max_iter': [100,1000, 2000, 3000]}\n",
    "\n",
    "grid = GridSearchCV(log, param_grid=param, cv =5, n_jobs=-1)\n",
    "grid.fit(x_train, y_train)"
   ]
  },
  {
   "cell_type": "code",
   "execution_count": 105,
   "metadata": {},
   "outputs": [
    {
     "data": {
      "text/plain": [
       "{'C': 0.10101010101010101, 'max_iter': 100, 'penalty': 'l2', 'solver': 'lbfgs'}"
      ]
     },
     "execution_count": 105,
     "metadata": {},
     "output_type": "execute_result"
    }
   ],
   "source": [
    "grid.best_params_"
   ]
  },
  {
   "cell_type": "code",
   "execution_count": 123,
   "metadata": {},
   "outputs": [
    {
     "name": "stdout",
     "output_type": "stream",
     "text": [
      "train score :  0.8096302316131654\n",
      "test score :  0.8104265402843602\n"
     ]
    }
   ],
   "source": [
    "logre_model = LogisticRegression(random_state=0, C=0101., penalty = 'l2', solver='lbfgs')\n",
    "logre_model.fit(x_train, y_train)\n",
    "\n",
    "print('train score : ' , logre_model.score(x_train, y_train) )\n",
    "print('test score : ' , logre_model.score(x_test,y_test) )"
   ]
  },
  {
   "cell_type": "code",
   "execution_count": 113,
   "metadata": {},
   "outputs": [
    {
     "data": {
      "image/png": "[encoded data removed]",
      "text/plain": [
       "<Figure size 432x288 with 2 Axes>"
      ]
     },
     "metadata": {
      "needs_background": "light"
     },
     "output_type": "display_data"
    }
   ],
   "source": [
    "from sklearn.metrics import plot_confusion_matrix\n",
    "\n",
    "\n",
    "plot_confusion_matrix(logre_model,x_test,y_test,cmap=plt.cm.Blues);"
   ]
  },
  {
   "cell_type": "code",
   "execution_count": 114,
   "metadata": {},
   "outputs": [
    {
     "name": "stdout",
     "output_type": "stream",
     "text": [
      "              precision    recall  f1-score   support\n",
      "\n",
      "           0    0.85441   0.89413   0.87382      1549\n",
      "           1    0.66462   0.57932   0.61905       561\n",
      "\n",
      "    accuracy                        0.81043      2110\n",
      "   macro avg    0.75952   0.73672   0.74643      2110\n",
      "weighted avg    0.80395   0.81043   0.80608      2110\n",
      "\n"
     ]
    }
   ],
   "source": [
    "y_predi=logre_model.predict(x_test)\n",
    "\n",
    "print(classification_report(y_test,y_predi,digits=5))"
   ]
  },
  {
   "cell_type": "code",
   "execution_count": 115,
   "metadata": {},
   "outputs": [],
   "source": [
    "from sklearn.metrics import roc_curve\n",
    "y_scores = logre_model.predict_proba(x_test)\n",
    "fpr, tpr, thresholds = roc_curve(y_test, y_scores[:, 1])"
   ]
  },
  {
   "cell_type": "code",
   "execution_count": 116,
   "metadata": {},
   "outputs": [
    {
     "data": {
      "image/png": "[encoded data removed]",
      "text/plain": [
       "<Figure size 720x360 with 1 Axes>"
      ]
     },
     "metadata": {
      "needs_background": "light"
     },
     "output_type": "display_data"
    }
   ],
   "source": [
    "plt.figure(figsize=(10,5))\n",
    "plt.plot(fpr, tpr, 'b')\n",
    "plt.xlim([0,1])\n",
    "plt.ylim([0,1])\n",
    "plt.xlabel('False positive rate')\n",
    "plt.ylabel('True positive rate')\n",
    "plt.plot([0,1], [0,1] , 'r')\n",
    "plt.grid(True)\n",
    "plt.show()"
   ]
  },
  {
   "cell_type": "code",
   "execution_count": 117,
   "metadata": {},
   "outputs": [
    {
     "data": {
      "text/plain": [
       "0.858682906227812"
      ]
     },
     "execution_count": 117,
     "metadata": {},
     "output_type": "execute_result"
    }
   ],
   "source": [
    "from sklearn.metrics import auc\n",
    "auc(fpr, tpr)"
   ]
  },
  {
   "cell_type": "markdown",
   "metadata": {},
   "source": [
    "## Aplication du modele RandomForestClassifier"
   ]
  },
  {
   "cell_type": "code",
   "execution_count": 129,
   "metadata": {},
   "outputs": [
    {
     "data": {
      "text/plain": [
       "GridSearchCV(cv=5, estimator=RandomForestClassifier(),\n",
       "             param_grid={'criterion': ['gini', 'entropy'],\n",
       "                         'max_depth': array([1, 2, 3, 4, 5, 6, 7, 8, 9])})"
      ]
     },
     "execution_count": 129,
     "metadata": {},
     "output_type": "execute_result"
    }
   ],
   "source": [
    "from sklearn.ensemble import RandomForestClassifier\n",
    "from sklearn.model_selection import GridSearchCV\n",
    "\n",
    "\n",
    "param={'criterion': ['gini','entropy'],    \n",
    "      'max_depth' :np.arange(1,10),\n",
    "      } \n",
    "\n",
    "random_grid= GridSearchCV(RandomForestClassifier(),param_grid=param,cv=5)\n",
    "random_grid.fit(x_train,y_train)\n",
    "\n"
   ]
  },
  {
   "cell_type": "code",
   "execution_count": 131,
   "metadata": {},
   "outputs": [
    {
     "data": {
      "text/plain": [
       "{'criterion': 'gini', 'max_depth': 8}"
      ]
     },
     "execution_count": 131,
     "metadata": {},
     "output_type": "execute_result"
    }
   ],
   "source": [
    "random_grid.best_params_"
   ]
  },
  {
   "cell_type": "code",
   "execution_count": 145,
   "metadata": {},
   "outputs": [
    {
     "name": "stdout",
     "output_type": "stream",
     "text": [
      "train score :  0.8283218203982121\n",
      "test score :  0.8099526066350711\n"
     ]
    }
   ],
   "source": [
    "random_model=RandomForestClassifier(criterion='gini', max_depth=8,random_state=14)\n",
    "random_model.fit(x_train,y_train)\n",
    "\n",
    "print('train score : ' ,random_model.score(x_train,y_train))\n",
    "print('test score : ' ,random_model.score(x_test,y_test))\n"
   ]
  },
  {
   "cell_type": "code",
   "execution_count": 146,
   "metadata": {},
   "outputs": [
    {
     "data": {
      "image/png": "[encoded data removed]",
      "text/plain": [
       "<Figure size 432x288 with 2 Axes>"
      ]
     },
     "metadata": {
      "needs_background": "light"
     },
     "output_type": "display_data"
    }
   ],
   "source": [
    "from sklearn.metrics import plot_confusion_matrix\n",
    "\n",
    "\n",
    "plot_confusion_matrix(random_model,x_test,y_test,cmap=plt.cm.Blues);"
   ]
  },
  {
   "cell_type": "code",
   "execution_count": 147,
   "metadata": {},
   "outputs": [
    {
     "name": "stdout",
     "output_type": "stream",
     "text": [
      "              precision    recall  f1-score   support\n",
      "\n",
      "           0    0.84045   0.91478   0.87604      1549\n",
      "           1    0.68868   0.52050   0.59289       561\n",
      "\n",
      "    accuracy                        0.80995      2110\n",
      "   macro avg    0.76457   0.71764   0.73447      2110\n",
      "weighted avg    0.80010   0.80995   0.80076      2110\n",
      "\n"
     ]
    }
   ],
   "source": [
    "y_predi=random_model.predict(x_test)\n",
    "\n",
    "print(classification_report(y_test,y_predi,digits=5))"
   ]
  },
  {
   "cell_type": "code",
   "execution_count": 151,
   "metadata": {},
   "outputs": [],
   "source": [
    "from sklearn.metrics import roc_curve\n",
    "y_scores = random_model.predict_proba(x_test)\n",
    "fpr, tpr, thresholds = roc_curve(y_test, y_scores[:, 1])"
   ]
  },
  {
   "cell_type": "code",
   "execution_count": 152,
   "metadata": {},
   "outputs": [
    {
     "data": {
      "image/png": "[encoded data removed]",
      "text/plain": [
       "<Figure size 720x360 with 1 Axes>"
      ]
     },
     "metadata": {
      "needs_background": "light"
     },
     "output_type": "display_data"
    }
   ],
   "source": [
    "plt.figure(figsize=(10,5))\n",
    "plt.plot(fpr, tpr, 'b')\n",
    "plt.xlim([0,1])\n",
    "plt.ylim([0,1])\n",
    "plt.xlabel('False positive rate')\n",
    "plt.ylabel('True positive rate')\n",
    "plt.plot([0,1], [0,1] , 'r')\n",
    "plt.grid(True)\n",
    "plt.show()"
   ]
  },
  {
   "cell_type": "code",
   "execution_count": 153,
   "metadata": {},
   "outputs": [
    {
     "data": {
      "text/plain": [
       "0.8579734611140072"
      ]
     },
     "execution_count": 153,
     "metadata": {},
     "output_type": "execute_result"
    }
   ],
   "source": [
    "from sklearn.metrics import auc\n",
    "auc(fpr, tpr)"
   ]
  },
  {
   "cell_type": "code",
   "execution_count": null,
   "metadata": {},
   "outputs": [],
   "source": []
  },
  {
   "cell_type": "markdown",
   "metadata": {},
   "source": [
    "## Summary table \n",
    "## Selection Feature : Varaince  ( with 26 features )"
   ]
  },
  {
   "cell_type": "code",
   "execution_count": 76,
   "metadata": {},
   "outputs": [],
   "source": [
    "# Regardons la construction d'une DataFrame\n",
    "import numpy as np\n",
    "import pandas as pd\n",
    "\n",
    "l=['KNeighborsClassifier','DecisionTreeClassifier','NaiveBayes(MultiNomial)','LogisticRegression','RandomForestClassifier']\n",
    "train_score = pd.Series([0.8080,0.8228,0.7423,0.8096,0.8283], index=l)\n",
    "test_score = pd.Series([0.7962,0.7947,0.7568,0.8104,0.8099], index=l)\n",
    "f1_score_rester = pd.Series([0.8642,0.8636,0.8206,0.8738,0.8760], index=l)\n",
    "\n",
    "f1_score_quitter = pd.Series([0.5912,0.5856,0.6225,0.6190,0.5928], index=l)\n",
    "accuary = pd.Series([0.7962,0.7947,0.7568,0.8104,0.8099], index=l)\n",
    "auc = pd.Series([0.8433,0.8366,0.8192,0.8586,0.8579], index=l)\n",
    "\n"
   ]
  },
  {
   "cell_type": "code",
   "execution_count": null,
   "metadata": {},
   "outputs": [],
   "source": []
  },
  {
   "cell_type": "code",
   "execution_count": 81,
   "metadata": {},
   "outputs": [
    {
     "data": {
      "text/html": [
       "<div>\n",
       "<style scoped>\n",
       "    .dataframe tbody tr th:only-of-type {\n",
       "        vertical-align: middle;\n",
       "    }\n",
       "\n",
       "    .dataframe tbody tr th {\n",
       "        vertical-align: top;\n",
       "    }\n",
       "\n",
       "    .dataframe thead th {\n",
       "        text-align: right;\n",
       "    }\n",
       "</style>\n",
       "<table border=\"1\" class=\"dataframe\">\n",
       "  <thead>\n",
       "    <tr style=\"text-align: right;\">\n",
       "      <th></th>\n",
       "      <th>train_score</th>\n",
       "      <th>test_score</th>\n",
       "      <th>f1_score_rester</th>\n",
       "      <th>f1_score_quitter</th>\n",
       "      <th>accuary</th>\n",
       "      <th>AUC</th>\n",
       "    </tr>\n",
       "  </thead>\n",
       "  <tbody>\n",
       "    <tr>\n",
       "      <th>KNeighborsClassifier</th>\n",
       "      <td>0.8080</td>\n",
       "      <td>0.7962</td>\n",
       "      <td>0.8642</td>\n",
       "      <td>0.5912</td>\n",
       "      <td>0.7962</td>\n",
       "      <td>0.8433</td>\n",
       "    </tr>\n",
       "    <tr>\n",
       "      <th>DecisionTreeClassifier</th>\n",
       "      <td>0.8228</td>\n",
       "      <td>0.7947</td>\n",
       "      <td>0.8636</td>\n",
       "      <td>0.5856</td>\n",
       "      <td>0.7947</td>\n",
       "      <td>0.8366</td>\n",
       "    </tr>\n",
       "    <tr>\n",
       "      <th>NaiveBayes(MultiNomial)</th>\n",
       "      <td>0.7423</td>\n",
       "      <td>0.7568</td>\n",
       "      <td>0.8206</td>\n",
       "      <td>0.6225</td>\n",
       "      <td>0.7568</td>\n",
       "      <td>0.8192</td>\n",
       "    </tr>\n",
       "    <tr>\n",
       "      <th>LogisticRegression</th>\n",
       "      <td>0.8096</td>\n",
       "      <td>0.8104</td>\n",
       "      <td>0.8738</td>\n",
       "      <td>0.6190</td>\n",
       "      <td>0.8104</td>\n",
       "      <td>0.8586</td>\n",
       "    </tr>\n",
       "    <tr>\n",
       "      <th>RandomForestClassifier</th>\n",
       "      <td>0.8283</td>\n",
       "      <td>0.8099</td>\n",
       "      <td>0.8760</td>\n",
       "      <td>0.5928</td>\n",
       "      <td>0.8099</td>\n",
       "      <td>0.8579</td>\n",
       "    </tr>\n",
       "  </tbody>\n",
       "</table>\n",
       "</div>"
      ],
      "text/plain": [
       "                         train_score  test_score   f1_score_rester  \\\n",
       "KNeighborsClassifier          0.8080       0.7962           0.8642   \n",
       "DecisionTreeClassifier        0.8228       0.7947           0.8636   \n",
       "NaiveBayes(MultiNomial)       0.7423       0.7568           0.8206   \n",
       "LogisticRegression            0.8096       0.8104           0.8738   \n",
       "RandomForestClassifier        0.8283       0.8099           0.8760   \n",
       "\n",
       "                         f1_score_quitter  accuary     AUC  \n",
       "KNeighborsClassifier               0.5912   0.7962  0.8433  \n",
       "DecisionTreeClassifier             0.5856   0.7947  0.8366  \n",
       "NaiveBayes(MultiNomial)            0.6225   0.7568  0.8192  \n",
       "LogisticRegression                 0.6190   0.8104  0.8586  \n",
       "RandomForestClassifier             0.5928   0.8099  0.8579  "
      ]
     },
     "execution_count": 81,
     "metadata": {},
     "output_type": "execute_result"
    }
   ],
   "source": [
    "stat = pd.DataFrame({'train_score': train_score,\n",
    "                    'test_score ' : test_score,\n",
    "                    'f1_score_rester': f1_score_rester,\n",
    "                    'f1_score_quitter': f1_score_quitter ,\n",
    "                   'accuary': accuary,\n",
    "                   'AUC': auc})\n",
    "stat\n"
   ]
  },
  {
   "cell_type": "markdown",
   "metadata": {},
   "source": [
    "## Selection Feature : Varaince  ( with 26 features )"
   ]
  },
  {
   "cell_type": "code",
   "execution_count": null,
   "metadata": {},
   "outputs": [],
   "source": []
  }
 ],
 "metadata": {
  "kernelspec": {
   "display_name": "Python 3",
   "language": "python",
   "name": "python3"
  },
  "language_info": {
   "codemirror_mode": {
    "name": "ipython",
    "version": 3
   },
   "file_extension": ".py",
   "mimetype": "text/x-python",
   "name": "python",
   "nbconvert_exporter": "python",
   "pygments_lexer": "ipython3",
   "version": "3.7.9"
  }
 },
 "nbformat": 4,
 "nbformat_minor": 4
}
