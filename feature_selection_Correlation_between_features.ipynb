{
 "cells": [
  {
   "cell_type": "code",
   "execution_count": 117,
   "metadata": {},
   "outputs": [],
   "source": [
    "# Importation des bibliothéques utiles pour l'analyse\n",
    "import pandas as pd \n",
    "import numpy as np\n",
    "import matplotlib.pyplot as plt\n",
    "import seaborn as sns\n",
    "%matplotlib inline "
   ]
  },
  {
   "cell_type": "code",
   "execution_count": 118,
   "metadata": {},
   "outputs": [
    {
     "data": {
      "text/html": [
       "<div>\n",
       "<style scoped>\n",
       "    .dataframe tbody tr th:only-of-type {\n",
       "        vertical-align: middle;\n",
       "    }\n",
       "\n",
       "    .dataframe tbody tr th {\n",
       "        vertical-align: top;\n",
       "    }\n",
       "\n",
       "    .dataframe thead th {\n",
       "        text-align: right;\n",
       "    }\n",
       "</style>\n",
       "<table border=\"1\" class=\"dataframe\">\n",
       "  <thead>\n",
       "    <tr style=\"text-align: right;\">\n",
       "      <th></th>\n",
       "      <th>CustomerID</th>\n",
       "      <th>Count</th>\n",
       "      <th>Country</th>\n",
       "      <th>State</th>\n",
       "      <th>City</th>\n",
       "      <th>Zip Code</th>\n",
       "      <th>Lat Long</th>\n",
       "      <th>Latitude</th>\n",
       "      <th>Longitude</th>\n",
       "      <th>Gender</th>\n",
       "      <th>...</th>\n",
       "      <th>Contract</th>\n",
       "      <th>Paperless Billing</th>\n",
       "      <th>Payment Method</th>\n",
       "      <th>Monthly Charges</th>\n",
       "      <th>Total Charges</th>\n",
       "      <th>Churn Label</th>\n",
       "      <th>Churn Value</th>\n",
       "      <th>Churn Score</th>\n",
       "      <th>CLTV</th>\n",
       "      <th>Churn Reason</th>\n",
       "    </tr>\n",
       "  </thead>\n",
       "  <tbody>\n",
       "    <tr>\n",
       "      <th>0</th>\n",
       "      <td>3668-QPYBK</td>\n",
       "      <td>1</td>\n",
       "      <td>United States</td>\n",
       "      <td>California</td>\n",
       "      <td>Los Angeles</td>\n",
       "      <td>90003</td>\n",
       "      <td>33.964131, -118.272783</td>\n",
       "      <td>33.964131</td>\n",
       "      <td>-118.272783</td>\n",
       "      <td>Male</td>\n",
       "      <td>...</td>\n",
       "      <td>Month-to-month</td>\n",
       "      <td>Yes</td>\n",
       "      <td>Mailed check</td>\n",
       "      <td>53.85</td>\n",
       "      <td>108.15</td>\n",
       "      <td>Yes</td>\n",
       "      <td>1</td>\n",
       "      <td>86</td>\n",
       "      <td>3239</td>\n",
       "      <td>Competitor made better offer</td>\n",
       "    </tr>\n",
       "    <tr>\n",
       "      <th>1</th>\n",
       "      <td>9237-HQITU</td>\n",
       "      <td>1</td>\n",
       "      <td>United States</td>\n",
       "      <td>California</td>\n",
       "      <td>Los Angeles</td>\n",
       "      <td>90005</td>\n",
       "      <td>34.059281, -118.30742</td>\n",
       "      <td>34.059281</td>\n",
       "      <td>-118.307420</td>\n",
       "      <td>Female</td>\n",
       "      <td>...</td>\n",
       "      <td>Month-to-month</td>\n",
       "      <td>Yes</td>\n",
       "      <td>Electronic check</td>\n",
       "      <td>70.70</td>\n",
       "      <td>151.65</td>\n",
       "      <td>Yes</td>\n",
       "      <td>1</td>\n",
       "      <td>67</td>\n",
       "      <td>2701</td>\n",
       "      <td>Moved</td>\n",
       "    </tr>\n",
       "    <tr>\n",
       "      <th>2</th>\n",
       "      <td>9305-CDSKC</td>\n",
       "      <td>1</td>\n",
       "      <td>United States</td>\n",
       "      <td>California</td>\n",
       "      <td>Los Angeles</td>\n",
       "      <td>90006</td>\n",
       "      <td>34.048013, -118.293953</td>\n",
       "      <td>34.048013</td>\n",
       "      <td>-118.293953</td>\n",
       "      <td>Female</td>\n",
       "      <td>...</td>\n",
       "      <td>Month-to-month</td>\n",
       "      <td>Yes</td>\n",
       "      <td>Electronic check</td>\n",
       "      <td>99.65</td>\n",
       "      <td>820.5</td>\n",
       "      <td>Yes</td>\n",
       "      <td>1</td>\n",
       "      <td>86</td>\n",
       "      <td>5372</td>\n",
       "      <td>Moved</td>\n",
       "    </tr>\n",
       "  </tbody>\n",
       "</table>\n",
       "<p>3 rows × 33 columns</p>\n",
       "</div>"
      ],
      "text/plain": [
       "   CustomerID  Count        Country       State         City  Zip Code  \\\n",
       "0  3668-QPYBK      1  United States  California  Los Angeles     90003   \n",
       "1  9237-HQITU      1  United States  California  Los Angeles     90005   \n",
       "2  9305-CDSKC      1  United States  California  Los Angeles     90006   \n",
       "\n",
       "                 Lat Long   Latitude   Longitude  Gender  ...        Contract  \\\n",
       "0  33.964131, -118.272783  33.964131 -118.272783    Male  ...  Month-to-month   \n",
       "1   34.059281, -118.30742  34.059281 -118.307420  Female  ...  Month-to-month   \n",
       "2  34.048013, -118.293953  34.048013 -118.293953  Female  ...  Month-to-month   \n",
       "\n",
       "  Paperless Billing    Payment Method  Monthly Charges Total Charges  \\\n",
       "0               Yes      Mailed check            53.85        108.15   \n",
       "1               Yes  Electronic check            70.70        151.65   \n",
       "2               Yes  Electronic check            99.65         820.5   \n",
       "\n",
       "  Churn Label Churn Value Churn Score  CLTV                  Churn Reason  \n",
       "0         Yes           1          86  3239  Competitor made better offer  \n",
       "1         Yes           1          67  2701                         Moved  \n",
       "2         Yes           1          86  5372                         Moved  \n",
       "\n",
       "[3 rows x 33 columns]"
      ]
     },
     "execution_count": 118,
     "metadata": {},
     "output_type": "execute_result"
    }
   ],
   "source": [
    "# Chargement de notre DataFrame \n",
    "data=pd.read_csv(\"C:/Users/User/Desktop/Projet_ML/Telco-Customer-Churn1.csv\")\n",
    "data.head(3)"
   ]
  },
  {
   "cell_type": "code",
   "execution_count": null,
   "metadata": {},
   "outputs": [],
   "source": []
  },
  {
   "cell_type": "code",
   "execution_count": 119,
   "metadata": {},
   "outputs": [],
   "source": [
    "var_to_drop=['CustomerID', 'Count', 'Country', 'State', 'City', 'Zip Code',\n",
    "       'Lat Long', 'Latitude', 'Longitude',\n",
    "             'Churn Label', 'CLTV','Churn Score', 'Churn Reason']"
   ]
  },
  {
   "cell_type": "code",
   "execution_count": 120,
   "metadata": {},
   "outputs": [],
   "source": [
    "#suppression des variables unutiles\n",
    "data=data.drop(columns=var_to_drop)"
   ]
  },
  {
   "cell_type": "code",
   "execution_count": 121,
   "metadata": {},
   "outputs": [],
   "source": [
    "# Convertion en type numérique\n",
    "data['Total Charges']=pd.to_numeric(data['Total Charges'],errors='coerce')\n"
   ]
  },
  {
   "cell_type": "code",
   "execution_count": 122,
   "metadata": {},
   "outputs": [],
   "source": [
    "# on va supprimer les 11 valeur manquantes de la variable 'Total Charges\n",
    "data=data.dropna()"
   ]
  },
  {
   "cell_type": "code",
   "execution_count": 123,
   "metadata": {},
   "outputs": [
    {
     "data": {
      "text/plain": [
       "(7032, 20)"
      ]
     },
     "execution_count": 123,
     "metadata": {},
     "output_type": "execute_result"
    }
   ],
   "source": [
    "data.shape"
   ]
  },
  {
   "cell_type": "code",
   "execution_count": 124,
   "metadata": {},
   "outputs": [],
   "source": [
    "#liste des variables a encoder \n",
    "col_to_encoder=['Gender', 'Senior Citizen', 'Partner', 'Dependents',\n",
    "       'Phone Service', 'Multiple Lines', 'Internet Service',\n",
    "       'Online Security', 'Online Backup', 'Device Protection', 'Tech Support',\n",
    "       'Streaming TV', 'Streaming Movies', 'Contract', 'Paperless Billing',\n",
    "       'Payment Method']"
   ]
  },
  {
   "cell_type": "code",
   "execution_count": 125,
   "metadata": {},
   "outputs": [
    {
     "data": {
      "text/html": [
       "<div>\n",
       "<style scoped>\n",
       "    .dataframe tbody tr th:only-of-type {\n",
       "        vertical-align: middle;\n",
       "    }\n",
       "\n",
       "    .dataframe tbody tr th {\n",
       "        vertical-align: top;\n",
       "    }\n",
       "\n",
       "    .dataframe thead th {\n",
       "        text-align: right;\n",
       "    }\n",
       "</style>\n",
       "<table border=\"1\" class=\"dataframe\">\n",
       "  <thead>\n",
       "    <tr style=\"text-align: right;\">\n",
       "      <th></th>\n",
       "      <th>Gender_Male</th>\n",
       "      <th>Senior Citizen_Yes</th>\n",
       "      <th>Partner_Yes</th>\n",
       "      <th>Dependents_Yes</th>\n",
       "      <th>Phone Service_Yes</th>\n",
       "      <th>Multiple Lines_No phone service</th>\n",
       "      <th>Multiple Lines_Yes</th>\n",
       "      <th>Internet Service_Fiber optic</th>\n",
       "      <th>Internet Service_No</th>\n",
       "      <th>Online Security_No internet service</th>\n",
       "      <th>...</th>\n",
       "      <th>Contract_One year</th>\n",
       "      <th>Contract_Two year</th>\n",
       "      <th>Paperless Billing_Yes</th>\n",
       "      <th>Payment Method_Credit card (automatic)</th>\n",
       "      <th>Payment Method_Electronic check</th>\n",
       "      <th>Payment Method_Mailed check</th>\n",
       "      <th>Tenure Months</th>\n",
       "      <th>Monthly Charges</th>\n",
       "      <th>Total Charges</th>\n",
       "      <th>Churn Value</th>\n",
       "    </tr>\n",
       "  </thead>\n",
       "  <tbody>\n",
       "    <tr>\n",
       "      <th>0</th>\n",
       "      <td>1</td>\n",
       "      <td>0</td>\n",
       "      <td>0</td>\n",
       "      <td>0</td>\n",
       "      <td>1</td>\n",
       "      <td>0</td>\n",
       "      <td>0</td>\n",
       "      <td>0</td>\n",
       "      <td>0</td>\n",
       "      <td>0</td>\n",
       "      <td>...</td>\n",
       "      <td>0</td>\n",
       "      <td>0</td>\n",
       "      <td>1</td>\n",
       "      <td>0</td>\n",
       "      <td>0</td>\n",
       "      <td>1</td>\n",
       "      <td>2</td>\n",
       "      <td>53.85</td>\n",
       "      <td>108.15</td>\n",
       "      <td>1</td>\n",
       "    </tr>\n",
       "    <tr>\n",
       "      <th>1</th>\n",
       "      <td>0</td>\n",
       "      <td>0</td>\n",
       "      <td>0</td>\n",
       "      <td>1</td>\n",
       "      <td>1</td>\n",
       "      <td>0</td>\n",
       "      <td>0</td>\n",
       "      <td>1</td>\n",
       "      <td>0</td>\n",
       "      <td>0</td>\n",
       "      <td>...</td>\n",
       "      <td>0</td>\n",
       "      <td>0</td>\n",
       "      <td>1</td>\n",
       "      <td>0</td>\n",
       "      <td>1</td>\n",
       "      <td>0</td>\n",
       "      <td>2</td>\n",
       "      <td>70.70</td>\n",
       "      <td>151.65</td>\n",
       "      <td>1</td>\n",
       "    </tr>\n",
       "    <tr>\n",
       "      <th>2</th>\n",
       "      <td>0</td>\n",
       "      <td>0</td>\n",
       "      <td>0</td>\n",
       "      <td>1</td>\n",
       "      <td>1</td>\n",
       "      <td>0</td>\n",
       "      <td>1</td>\n",
       "      <td>1</td>\n",
       "      <td>0</td>\n",
       "      <td>0</td>\n",
       "      <td>...</td>\n",
       "      <td>0</td>\n",
       "      <td>0</td>\n",
       "      <td>1</td>\n",
       "      <td>0</td>\n",
       "      <td>1</td>\n",
       "      <td>0</td>\n",
       "      <td>8</td>\n",
       "      <td>99.65</td>\n",
       "      <td>820.50</td>\n",
       "      <td>1</td>\n",
       "    </tr>\n",
       "    <tr>\n",
       "      <th>3</th>\n",
       "      <td>0</td>\n",
       "      <td>0</td>\n",
       "      <td>1</td>\n",
       "      <td>1</td>\n",
       "      <td>1</td>\n",
       "      <td>0</td>\n",
       "      <td>1</td>\n",
       "      <td>1</td>\n",
       "      <td>0</td>\n",
       "      <td>0</td>\n",
       "      <td>...</td>\n",
       "      <td>0</td>\n",
       "      <td>0</td>\n",
       "      <td>1</td>\n",
       "      <td>0</td>\n",
       "      <td>1</td>\n",
       "      <td>0</td>\n",
       "      <td>28</td>\n",
       "      <td>104.80</td>\n",
       "      <td>3046.05</td>\n",
       "      <td>1</td>\n",
       "    </tr>\n",
       "    <tr>\n",
       "      <th>4</th>\n",
       "      <td>1</td>\n",
       "      <td>0</td>\n",
       "      <td>0</td>\n",
       "      <td>1</td>\n",
       "      <td>1</td>\n",
       "      <td>0</td>\n",
       "      <td>1</td>\n",
       "      <td>1</td>\n",
       "      <td>0</td>\n",
       "      <td>0</td>\n",
       "      <td>...</td>\n",
       "      <td>0</td>\n",
       "      <td>0</td>\n",
       "      <td>1</td>\n",
       "      <td>0</td>\n",
       "      <td>0</td>\n",
       "      <td>0</td>\n",
       "      <td>49</td>\n",
       "      <td>103.70</td>\n",
       "      <td>5036.30</td>\n",
       "      <td>1</td>\n",
       "    </tr>\n",
       "    <tr>\n",
       "      <th>...</th>\n",
       "      <td>...</td>\n",
       "      <td>...</td>\n",
       "      <td>...</td>\n",
       "      <td>...</td>\n",
       "      <td>...</td>\n",
       "      <td>...</td>\n",
       "      <td>...</td>\n",
       "      <td>...</td>\n",
       "      <td>...</td>\n",
       "      <td>...</td>\n",
       "      <td>...</td>\n",
       "      <td>...</td>\n",
       "      <td>...</td>\n",
       "      <td>...</td>\n",
       "      <td>...</td>\n",
       "      <td>...</td>\n",
       "      <td>...</td>\n",
       "      <td>...</td>\n",
       "      <td>...</td>\n",
       "      <td>...</td>\n",
       "      <td>...</td>\n",
       "    </tr>\n",
       "    <tr>\n",
       "      <th>7038</th>\n",
       "      <td>0</td>\n",
       "      <td>0</td>\n",
       "      <td>0</td>\n",
       "      <td>0</td>\n",
       "      <td>1</td>\n",
       "      <td>0</td>\n",
       "      <td>0</td>\n",
       "      <td>0</td>\n",
       "      <td>1</td>\n",
       "      <td>1</td>\n",
       "      <td>...</td>\n",
       "      <td>0</td>\n",
       "      <td>1</td>\n",
       "      <td>1</td>\n",
       "      <td>0</td>\n",
       "      <td>0</td>\n",
       "      <td>0</td>\n",
       "      <td>72</td>\n",
       "      <td>21.15</td>\n",
       "      <td>1419.40</td>\n",
       "      <td>0</td>\n",
       "    </tr>\n",
       "    <tr>\n",
       "      <th>7039</th>\n",
       "      <td>1</td>\n",
       "      <td>0</td>\n",
       "      <td>1</td>\n",
       "      <td>1</td>\n",
       "      <td>1</td>\n",
       "      <td>0</td>\n",
       "      <td>1</td>\n",
       "      <td>0</td>\n",
       "      <td>0</td>\n",
       "      <td>0</td>\n",
       "      <td>...</td>\n",
       "      <td>1</td>\n",
       "      <td>0</td>\n",
       "      <td>1</td>\n",
       "      <td>0</td>\n",
       "      <td>0</td>\n",
       "      <td>1</td>\n",
       "      <td>24</td>\n",
       "      <td>84.80</td>\n",
       "      <td>1990.50</td>\n",
       "      <td>0</td>\n",
       "    </tr>\n",
       "    <tr>\n",
       "      <th>7040</th>\n",
       "      <td>0</td>\n",
       "      <td>0</td>\n",
       "      <td>1</td>\n",
       "      <td>1</td>\n",
       "      <td>1</td>\n",
       "      <td>0</td>\n",
       "      <td>1</td>\n",
       "      <td>1</td>\n",
       "      <td>0</td>\n",
       "      <td>0</td>\n",
       "      <td>...</td>\n",
       "      <td>1</td>\n",
       "      <td>0</td>\n",
       "      <td>1</td>\n",
       "      <td>1</td>\n",
       "      <td>0</td>\n",
       "      <td>0</td>\n",
       "      <td>72</td>\n",
       "      <td>103.20</td>\n",
       "      <td>7362.90</td>\n",
       "      <td>0</td>\n",
       "    </tr>\n",
       "    <tr>\n",
       "      <th>7041</th>\n",
       "      <td>0</td>\n",
       "      <td>0</td>\n",
       "      <td>1</td>\n",
       "      <td>1</td>\n",
       "      <td>0</td>\n",
       "      <td>1</td>\n",
       "      <td>0</td>\n",
       "      <td>0</td>\n",
       "      <td>0</td>\n",
       "      <td>0</td>\n",
       "      <td>...</td>\n",
       "      <td>0</td>\n",
       "      <td>0</td>\n",
       "      <td>1</td>\n",
       "      <td>0</td>\n",
       "      <td>1</td>\n",
       "      <td>0</td>\n",
       "      <td>11</td>\n",
       "      <td>29.60</td>\n",
       "      <td>346.45</td>\n",
       "      <td>0</td>\n",
       "    </tr>\n",
       "    <tr>\n",
       "      <th>7042</th>\n",
       "      <td>1</td>\n",
       "      <td>0</td>\n",
       "      <td>0</td>\n",
       "      <td>0</td>\n",
       "      <td>1</td>\n",
       "      <td>0</td>\n",
       "      <td>0</td>\n",
       "      <td>1</td>\n",
       "      <td>0</td>\n",
       "      <td>0</td>\n",
       "      <td>...</td>\n",
       "      <td>0</td>\n",
       "      <td>1</td>\n",
       "      <td>1</td>\n",
       "      <td>0</td>\n",
       "      <td>0</td>\n",
       "      <td>0</td>\n",
       "      <td>66</td>\n",
       "      <td>105.65</td>\n",
       "      <td>6844.50</td>\n",
       "      <td>0</td>\n",
       "    </tr>\n",
       "  </tbody>\n",
       "</table>\n",
       "<p>7032 rows × 31 columns</p>\n",
       "</div>"
      ],
      "text/plain": [
       "      Gender_Male  Senior Citizen_Yes  Partner_Yes  Dependents_Yes  \\\n",
       "0               1                   0            0               0   \n",
       "1               0                   0            0               1   \n",
       "2               0                   0            0               1   \n",
       "3               0                   0            1               1   \n",
       "4               1                   0            0               1   \n",
       "...           ...                 ...          ...             ...   \n",
       "7038            0                   0            0               0   \n",
       "7039            1                   0            1               1   \n",
       "7040            0                   0            1               1   \n",
       "7041            0                   0            1               1   \n",
       "7042            1                   0            0               0   \n",
       "\n",
       "      Phone Service_Yes  Multiple Lines_No phone service  Multiple Lines_Yes  \\\n",
       "0                     1                                0                   0   \n",
       "1                     1                                0                   0   \n",
       "2                     1                                0                   1   \n",
       "3                     1                                0                   1   \n",
       "4                     1                                0                   1   \n",
       "...                 ...                              ...                 ...   \n",
       "7038                  1                                0                   0   \n",
       "7039                  1                                0                   1   \n",
       "7040                  1                                0                   1   \n",
       "7041                  0                                1                   0   \n",
       "7042                  1                                0                   0   \n",
       "\n",
       "      Internet Service_Fiber optic  Internet Service_No  \\\n",
       "0                                0                    0   \n",
       "1                                1                    0   \n",
       "2                                1                    0   \n",
       "3                                1                    0   \n",
       "4                                1                    0   \n",
       "...                            ...                  ...   \n",
       "7038                             0                    1   \n",
       "7039                             0                    0   \n",
       "7040                             1                    0   \n",
       "7041                             0                    0   \n",
       "7042                             1                    0   \n",
       "\n",
       "      Online Security_No internet service  ...  Contract_One year  \\\n",
       "0                                       0  ...                  0   \n",
       "1                                       0  ...                  0   \n",
       "2                                       0  ...                  0   \n",
       "3                                       0  ...                  0   \n",
       "4                                       0  ...                  0   \n",
       "...                                   ...  ...                ...   \n",
       "7038                                    1  ...                  0   \n",
       "7039                                    0  ...                  1   \n",
       "7040                                    0  ...                  1   \n",
       "7041                                    0  ...                  0   \n",
       "7042                                    0  ...                  0   \n",
       "\n",
       "      Contract_Two year  Paperless Billing_Yes  \\\n",
       "0                     0                      1   \n",
       "1                     0                      1   \n",
       "2                     0                      1   \n",
       "3                     0                      1   \n",
       "4                     0                      1   \n",
       "...                 ...                    ...   \n",
       "7038                  1                      1   \n",
       "7039                  0                      1   \n",
       "7040                  0                      1   \n",
       "7041                  0                      1   \n",
       "7042                  1                      1   \n",
       "\n",
       "      Payment Method_Credit card (automatic)  Payment Method_Electronic check  \\\n",
       "0                                          0                                0   \n",
       "1                                          0                                1   \n",
       "2                                          0                                1   \n",
       "3                                          0                                1   \n",
       "4                                          0                                0   \n",
       "...                                      ...                              ...   \n",
       "7038                                       0                                0   \n",
       "7039                                       0                                0   \n",
       "7040                                       1                                0   \n",
       "7041                                       0                                1   \n",
       "7042                                       0                                0   \n",
       "\n",
       "      Payment Method_Mailed check  Tenure Months  Monthly Charges  \\\n",
       "0                               1              2            53.85   \n",
       "1                               0              2            70.70   \n",
       "2                               0              8            99.65   \n",
       "3                               0             28           104.80   \n",
       "4                               0             49           103.70   \n",
       "...                           ...            ...              ...   \n",
       "7038                            0             72            21.15   \n",
       "7039                            1             24            84.80   \n",
       "7040                            0             72           103.20   \n",
       "7041                            0             11            29.60   \n",
       "7042                            0             66           105.65   \n",
       "\n",
       "      Total Charges  Churn Value  \n",
       "0            108.15            1  \n",
       "1            151.65            1  \n",
       "2            820.50            1  \n",
       "3           3046.05            1  \n",
       "4           5036.30            1  \n",
       "...             ...          ...  \n",
       "7038        1419.40            0  \n",
       "7039        1990.50            0  \n",
       "7040        7362.90            0  \n",
       "7041         346.45            0  \n",
       "7042        6844.50            0  \n",
       "\n",
       "[7032 rows x 31 columns]"
      ]
     },
     "execution_count": 125,
     "metadata": {},
     "output_type": "execute_result"
    }
   ],
   "source": [
    "data_encod=pd.get_dummies(data[col_to_encoder],drop_first=True)\n",
    "data_num=data[['Tenure Months','Monthly Charges','Total Charges','Churn Value']]\n",
    "data=pd.concat([data_encod,data_num],axis=1)\n",
    "data"
   ]
  },
  {
   "cell_type": "code",
   "execution_count": 126,
   "metadata": {},
   "outputs": [
    {
     "name": "stdout",
     "output_type": "stream",
     "text": [
      "(7032, 30)\n",
      "(7032,)\n"
     ]
    }
   ],
   "source": [
    "y=data['Churn Value']\n",
    "y\n",
    "x=data.drop(columns='Churn Value')\n",
    "print(x.shape)\n",
    "print(y.shape)"
   ]
  },
  {
   "cell_type": "code",
   "execution_count": 127,
   "metadata": {},
   "outputs": [],
   "source": [
    "from sklearn.model_selection import train_test_split\n",
    "\n",
    "x_train, x_test, y_train, y_test = train_test_split(x, y, test_size=0.3, random_state=0, stratify = y)\n"
   ]
  },
  {
   "cell_type": "code",
   "execution_count": 128,
   "metadata": {},
   "outputs": [
    {
     "name": "stderr",
     "output_type": "stream",
     "text": [
      "C:\\Users\\User\\anaconda3\\lib\\site-packages\\ipykernel_launcher.py:6: SettingWithCopyWarning: \n",
      "A value is trying to be set on a copy of a slice from a DataFrame.\n",
      "Try using .loc[row_indexer,col_indexer] = value instead\n",
      "\n",
      "See the caveats in the documentation: https://pandas.pydata.org/pandas-docs/stable/user_guide/indexing.html#returning-a-view-versus-a-copy\n",
      "  \n",
      "C:\\Users\\User\\anaconda3\\lib\\site-packages\\pandas\\core\\indexing.py:1736: SettingWithCopyWarning: \n",
      "A value is trying to be set on a copy of a slice from a DataFrame.\n",
      "Try using .loc[row_indexer,col_indexer] = value instead\n",
      "\n",
      "See the caveats in the documentation: https://pandas.pydata.org/pandas-docs/stable/user_guide/indexing.html#returning-a-view-versus-a-copy\n",
      "  isetter(loc, value[:, i].tolist())\n",
      "C:\\Users\\User\\anaconda3\\lib\\site-packages\\ipykernel_launcher.py:7: SettingWithCopyWarning: \n",
      "A value is trying to be set on a copy of a slice from a DataFrame.\n",
      "Try using .loc[row_indexer,col_indexer] = value instead\n",
      "\n",
      "See the caveats in the documentation: https://pandas.pydata.org/pandas-docs/stable/user_guide/indexing.html#returning-a-view-versus-a-copy\n",
      "  import sys\n",
      "C:\\Users\\User\\anaconda3\\lib\\site-packages\\pandas\\core\\indexing.py:1736: SettingWithCopyWarning: \n",
      "A value is trying to be set on a copy of a slice from a DataFrame.\n",
      "Try using .loc[row_indexer,col_indexer] = value instead\n",
      "\n",
      "See the caveats in the documentation: https://pandas.pydata.org/pandas-docs/stable/user_guide/indexing.html#returning-a-view-versus-a-copy\n",
      "  isetter(loc, value[:, i].tolist())\n"
     ]
    }
   ],
   "source": [
    "from sklearn.preprocessing import MinMaxScaler\n",
    "\n",
    "scaler=MinMaxScaler()\n",
    "\n",
    "\n",
    "x_train[['Tenure Months','Monthly Charges','Total Charges']]=scaler.fit_transform(x_train[['Tenure Months','Monthly Charges','Total Charges']])\n",
    "x_test[['Tenure Months','Monthly Charges','Total Charges']]=scaler.transform(x_test[['Tenure Months','Monthly Charges','Total Charges']])\n"
   ]
  },
  {
   "cell_type": "markdown",
   "metadata": {},
   "source": [
    "## Selection Features with `Correlation between features`"
   ]
  },
  {
   "cell_type": "code",
   "execution_count": 129,
   "metadata": {},
   "outputs": [],
   "source": [
    "def correlatedFeatures(dataset, threshold):\n",
    "    correlated_columns = set()\n",
    "    correlations = dataset.corr()\n",
    "    for i in range(len(correlations)):\n",
    "        for j in range(i):\n",
    "            if abs(correlations.iloc[i,j]) > threshold:\n",
    "                correlated_columns.add(correlations.columns[i])\n",
    "    return correlated_columns"
   ]
  },
  {
   "cell_type": "code",
   "execution_count": 132,
   "metadata": {},
   "outputs": [
    {
     "data": {
      "text/plain": [
       "{'Device Protection_No internet service',\n",
       " 'Multiple Lines_No phone service',\n",
       " 'Online Backup_No internet service',\n",
       " 'Online Security_No internet service',\n",
       " 'Streaming Movies_No internet service',\n",
       " 'Streaming TV_No internet service',\n",
       " 'Tech Support_No internet service'}"
      ]
     },
     "execution_count": 132,
     "metadata": {},
     "output_type": "execute_result"
    }
   ],
   "source": [
    "cf = correlatedFeatures(x_train, 0.85)\n",
    "cf"
   ]
  },
  {
   "cell_type": "code",
   "execution_count": 133,
   "metadata": {},
   "outputs": [
    {
     "name": "stdout",
     "output_type": "stream",
     "text": [
      "(4922, 23)\n",
      "(2110, 23)\n"
     ]
    }
   ],
   "source": [
    "x_train = x_train.drop(cf, axis=1)\n",
    "x_test = x_test.drop(cf, axis=1)\n",
    "print(x_train.shape)\n",
    "print(x_test.shape)\n"
   ]
  },
  {
   "cell_type": "code",
   "execution_count": 115,
   "metadata": {},
   "outputs": [
    {
     "data": {
      "text/plain": [
       "Index(['Gender_Male', 'Senior Citizen_Yes', 'Partner_Yes', 'Dependents_Yes',\n",
       "       'Phone Service_Yes', 'Multiple Lines_Yes',\n",
       "       'Internet Service_Fiber optic', 'Internet Service_No',\n",
       "       'Online Security_Yes', 'Online Backup_Yes', 'Device Protection_Yes',\n",
       "       'Tech Support_Yes', 'Streaming TV_Yes', 'Streaming Movies_Yes',\n",
       "       'Contract_One year', 'Contract_Two year', 'Paperless Billing_Yes',\n",
       "       'Payment Method_Credit card (automatic)',\n",
       "       'Payment Method_Electronic check', 'Payment Method_Mailed check',\n",
       "       'Tenure Months', 'Monthly Charges', 'Total Charges'],\n",
       "      dtype='object')"
      ]
     },
     "execution_count": 115,
     "metadata": {},
     "output_type": "execute_result"
    }
   ],
   "source": [
    "x_train.columns"
   ]
  },
  {
   "cell_type": "markdown",
   "metadata": {},
   "source": [
    "## Application du modele KNeighborsClassifier"
   ]
  },
  {
   "cell_type": "code",
   "execution_count": 146,
   "metadata": {},
   "outputs": [
    {
     "data": {
      "text/plain": [
       "GridSearchCV(cv=5, estimator=KNeighborsClassifier(),\n",
       "             param_grid={'metric': ['euclidean', 'manhattan', 'minkowski'],\n",
       "                         'n_neighbors': array([ 1,  2,  3,  4,  5,  6,  7,  8,  9, 10, 11, 12, 13, 14, 15, 16, 17,\n",
       "       18, 19, 20, 21, 22, 23, 24, 25, 26, 27, 28, 29, 30, 31, 32, 33, 34,\n",
       "       35, 36, 37, 38, 39, 40, 41, 42, 43, 44, 45, 46, 47, 48, 49, 50]),\n",
       "                         'weights': ['uniform', 'distance']})"
      ]
     },
     "execution_count": 146,
     "metadata": {},
     "output_type": "execute_result"
    }
   ],
   "source": [
    "from sklearn.neighbors import KNeighborsClassifier\n",
    "from sklearn.model_selection import GridSearchCV\n",
    "\n",
    "param_grid={'n_neighbors' : np.arange(1,51),\n",
    "           'metric': ['euclidean' ,'manhattan','minkowski'],\n",
    "           'weights' :[ 'uniform','distance']} #dictionaire qui contient les paramtres qu'on veut regler\n",
    "KNeighborsClassifier()\n",
    "knn_grid=GridSearchCV(KNeighborsClassifier(),param_grid=param_grid,cv=5)\n",
    "\n",
    "knn_grid.fit(x_train,y_train)"
   ]
  },
  {
   "cell_type": "code",
   "execution_count": 147,
   "metadata": {},
   "outputs": [
    {
     "data": {
      "text/plain": [
       "{'metric': 'manhattan', 'n_neighbors': 32, 'weights': 'uniform'}"
      ]
     },
     "execution_count": 147,
     "metadata": {},
     "output_type": "execute_result"
    }
   ],
   "source": [
    "knn_grid.best_params_\n"
   ]
  },
  {
   "cell_type": "code",
   "execution_count": 152,
   "metadata": {},
   "outputs": [
    {
     "name": "stdout",
     "output_type": "stream",
     "text": [
      "score du train  0.8086143843965867\n",
      "score du test 0.7985781990521327\n"
     ]
    }
   ],
   "source": [
    "\n",
    "knn_model=KNeighborsClassifier(n_neighbors=35,metric='euclidean')\n",
    "\n",
    "knn_model.fit(x_train,y_train)\n",
    "\n",
    "print('score du train ' ,knn_model.score(x_train,y_train))\n",
    "print('score du test' ,knn_model.score(x_test,y_test))"
   ]
  },
  {
   "cell_type": "code",
   "execution_count": 153,
   "metadata": {},
   "outputs": [
    {
     "data": {
      "image/png": "[encoded data removed]",
      "text/plain": [
       "<Figure size 432x288 with 2 Axes>"
      ]
     },
     "metadata": {
      "needs_background": "light"
     },
     "output_type": "display_data"
    }
   ],
   "source": [
    "from sklearn.metrics import plot_confusion_matrix\n",
    "\n",
    "y_pred=knn_model.predict(x_test)\n",
    "plot_confusion_matrix(knn_model,x_test,y_test,cmap=plt.cm.Blues);"
   ]
  },
  {
   "cell_type": "code",
   "execution_count": 154,
   "metadata": {},
   "outputs": [
    {
     "name": "stdout",
     "output_type": "stream",
     "text": [
      "              precision    recall  f1-score   support\n",
      "\n",
      "           0   0.852572  0.877340  0.864779      1549\n",
      "           1   0.631783  0.581105  0.605385       561\n",
      "\n",
      "    accuracy                       0.798578      2110\n",
      "   macro avg   0.742178  0.729223  0.735082      2110\n",
      "weighted avg   0.793869  0.798578  0.795812      2110\n",
      "\n"
     ]
    }
   ],
   "source": [
    "from sklearn.metrics import classification_report\n",
    "\n",
    "y_pred=knn_model.predict(x_test)\n",
    "print(classification_report(y_test,y_pred,digits=6))"
   ]
  },
  {
   "cell_type": "code",
   "execution_count": 155,
   "metadata": {},
   "outputs": [],
   "source": [
    "from sklearn.metrics import roc_curve\n",
    "y_scores = knn_model.predict_proba(x_test)\n",
    "fpr, tpr, thresholds = roc_curve(y_test, y_scores[:, 1])"
   ]
  },
  {
   "cell_type": "code",
   "execution_count": 156,
   "metadata": {},
   "outputs": [
    {
     "data": {
      "image/png": "[encoded data removed]",
      "text/plain": [
       "<Figure size 720x360 with 1 Axes>"
      ]
     },
     "metadata": {
      "needs_background": "light"
     },
     "output_type": "display_data"
    }
   ],
   "source": [
    "plt.figure(figsize=(10,5))\n",
    "plt.plot(fpr, tpr, 'b')\n",
    "plt.xlim([0,1])\n",
    "plt.ylim([0,1])\n",
    "plt.xlabel('False positive rate')\n",
    "plt.ylabel('True positive rate')\n",
    "plt.plot([0,1], [0,1] , 'r')\n",
    "plt.grid(True)\n",
    "plt.show()"
   ]
  },
  {
   "cell_type": "code",
   "execution_count": 157,
   "metadata": {},
   "outputs": [
    {
     "data": {
      "text/plain": [
       "0.8431942176483246"
      ]
     },
     "execution_count": 157,
     "metadata": {},
     "output_type": "execute_result"
    }
   ],
   "source": [
    "from sklearn.metrics import auc\n",
    "auc(fpr, tpr)"
   ]
  },
  {
   "cell_type": "markdown",
   "metadata": {},
   "source": [
    "## Application du modele DecisionTreeClassifier"
   ]
  },
  {
   "cell_type": "code",
   "execution_count": 158,
   "metadata": {},
   "outputs": [
    {
     "data": {
      "text/plain": [
       "GridSearchCV(cv=5, estimator=DecisionTreeClassifier(),\n",
       "             param_grid={'criterion': ['gini', 'entropy'],\n",
       "                         'max_depth': array([1, 2, 3, 4, 5, 6, 7, 8, 9])})"
      ]
     },
     "execution_count": 158,
     "metadata": {},
     "output_type": "execute_result"
    }
   ],
   "source": [
    "from sklearn.model_selection import GridSearchCV\n",
    "from sklearn.tree import DecisionTreeClassifier\n",
    "\n",
    "param={'criterion': ['gini','entropy'],    \n",
    "      'max_depth' :np.arange(1,10)\n",
    "      } \n",
    "\n",
    "tree_grid= GridSearchCV(DecisionTreeClassifier(),param_grid=param,cv=5)\n",
    "tree_grid.fit(x_train,y_train)"
   ]
  },
  {
   "cell_type": "code",
   "execution_count": 160,
   "metadata": {},
   "outputs": [
    {
     "data": {
      "text/plain": [
       "{'criterion': 'gini', 'max_depth': 4}"
      ]
     },
     "execution_count": 160,
     "metadata": {},
     "output_type": "execute_result"
    }
   ],
   "source": [
    "tree_grid.best_params_"
   ]
  },
  {
   "cell_type": "code",
   "execution_count": 168,
   "metadata": {},
   "outputs": [
    {
     "name": "stdout",
     "output_type": "stream",
     "text": [
      "train score :  0.8216172287687932\n",
      "test score :  0.7914691943127962\n"
     ]
    }
   ],
   "source": [
    "tree_model=DecisionTreeClassifier(criterion='gini',max_depth=7,random_state=0)\n",
    "tree_model.fit(x_train,y_train)\n",
    "print('train score : ', tree_model.score(x_train,y_train))\n",
    "print('test score : ', tree_model.score(x_test,y_test))"
   ]
  },
  {
   "cell_type": "code",
   "execution_count": 169,
   "metadata": {},
   "outputs": [
    {
     "data": {
      "image/png": "[encoded data removed]",
      "text/plain": [
       "<Figure size 432x288 with 2 Axes>"
      ]
     },
     "metadata": {
      "needs_background": "light"
     },
     "output_type": "display_data"
    }
   ],
   "source": [
    "from sklearn.metrics import plot_confusion_matrix\n",
    "\n",
    "plot_confusion_matrix(tree_model,x_test,y_test,cmap=plt.cm.Blues);"
   ]
  },
  {
   "cell_type": "code",
   "execution_count": 170,
   "metadata": {},
   "outputs": [
    {
     "name": "stdout",
     "output_type": "stream",
     "text": [
      "              precision    recall  f1-score   support\n",
      "\n",
      "           0   0.838729  0.886378  0.861896      1549\n",
      "           1   0.627907  0.529412  0.574468       561\n",
      "\n",
      "    accuracy                       0.791469      2110\n",
      "   macro avg   0.733318  0.707895  0.718182      2110\n",
      "weighted avg   0.782677  0.791469  0.785475      2110\n",
      "\n"
     ]
    }
   ],
   "source": [
    "from sklearn.metrics import classification_report\n",
    "\n",
    "y_pred=tree_model.predict(x_test)\n",
    "print(classification_report(y_test,y_pred,digits=6))"
   ]
  },
  {
   "cell_type": "code",
   "execution_count": 171,
   "metadata": {},
   "outputs": [],
   "source": [
    "from sklearn.metrics import roc_curve\n",
    "y_scores = tree_model.predict_proba(x_test)\n",
    "fpr, tpr, thresholds = roc_curve(y_test, y_scores[:, 1])"
   ]
  },
  {
   "cell_type": "code",
   "execution_count": 172,
   "metadata": {},
   "outputs": [
    {
     "data": {
      "image/png": "[encoded data removed]",
      "text/plain": [
       "<Figure size 720x360 with 1 Axes>"
      ]
     },
     "metadata": {
      "needs_background": "light"
     },
     "output_type": "display_data"
    }
   ],
   "source": [
    "plt.figure(figsize=(10,5))\n",
    "plt.plot(fpr, tpr, 'b')\n",
    "plt.xlim([0,1])\n",
    "plt.ylim([0,1])\n",
    "plt.xlabel('False positive rate')\n",
    "plt.ylabel('True positive rate')\n",
    "plt.plot([0,1], [0,1] , 'r')\n",
    "plt.grid(True)\n",
    "plt.show()"
   ]
  },
  {
   "cell_type": "code",
   "execution_count": 173,
   "metadata": {},
   "outputs": [
    {
     "data": {
      "text/plain": [
       "0.8260363479859929"
      ]
     },
     "execution_count": 173,
     "metadata": {},
     "output_type": "execute_result"
    }
   ],
   "source": [
    "from sklearn.metrics import auc\n",
    "auc(fpr, tpr)"
   ]
  },
  {
   "cell_type": "code",
   "execution_count": 176,
   "metadata": {},
   "outputs": [],
   "source": [
    "names=['Gender_Male', 'Senior Citizen_Yes', 'Partner_Yes', 'Dependents_Yes',\n",
    "       'Phone Service_Yes', 'Multiple Lines_Yes',\n",
    "       'Internet Service_Fiber optic', 'Internet Service_No',\n",
    "       'Online Security_Yes', 'Online Backup_Yes', 'Device Protection_Yes',\n",
    "       'Tech Support_Yes', 'Streaming TV_Yes', 'Streaming Movies_Yes',\n",
    "       'Contract_One year', 'Contract_Two year', 'Paperless Billing_Yes',\n",
    "       'Payment Method_Credit card (automatic)',\n",
    "       'Payment Method_Electronic check', 'Payment Method_Mailed check',\n",
    "       'Tenure Months', 'Monthly Charges', 'Total Charges']"
   ]
  },
  {
   "cell_type": "code",
   "execution_count": 177,
   "metadata": {},
   "outputs": [
    {
     "name": "stdout",
     "output_type": "stream",
     "text": [
      "Gender_Male 0.004864437133380703\n",
      "Senior Citizen_Yes 0.003455346883486682\n",
      "Partner_Yes 0.015190615043939357\n",
      "Dependents_Yes 0.07150956929491235\n",
      "Phone Service_Yes 0.00931435070575762\n",
      "Multiple Lines_Yes 0.012874466013794347\n",
      "Internet Service_Fiber optic 0.2570849520932638\n",
      "Internet Service_No 0.03428576034696888\n",
      "Online Security_Yes 0.0010977955106569366\n",
      "Online Backup_Yes 0.005282071523460251\n",
      "Device Protection_Yes 0.0017529243871176646\n",
      "Tech Support_Yes 0.007068686313682243\n",
      "Streaming TV_Yes 0.012462634812807844\n",
      "Streaming Movies_Yes 0.005009742779590742\n",
      "Contract_One year 0.020885157723207048\n",
      "Contract_Two year 0.010674155087424798\n",
      "Paperless Billing_Yes 0.004117822782987245\n",
      "Payment Method_Electronic check 0.02539700672288142\n",
      "Payment Method_Mailed check 0.006023185231120865\n",
      "Tenure Months 0.37297025719334287\n",
      "Monthly Charges 0.04131477397890462\n",
      "Total Charges 0.07736428843731172\n"
     ]
    }
   ],
   "source": [
    "for var, importance in zip(names, tree_model.feature_importances_):\n",
    "    if importance != 0:\n",
    "        print(var, importance)"
   ]
  },
  {
   "cell_type": "code",
   "execution_count": 178,
   "metadata": {},
   "outputs": [
    {
     "data": {
      "image/png": "[encoded data removed]",
      "text/plain": [
       "<Figure size 1440x720 with 1 Axes>"
      ]
     },
     "metadata": {
      "needs_background": "light"
     },
     "output_type": "display_data"
    }
   ],
   "source": [
    "from sklearn.tree import plot_tree\n",
    "plt.figure(figsize=(20,10))\n",
    "c=['quitter', 'rester']\n",
    "plot_tree(tree_model, feature_names= names, class_names=c, filled=True)\n",
    "plt.show()"
   ]
  },
  {
   "cell_type": "code",
   "execution_count": 179,
   "metadata": {},
   "outputs": [
    {
     "name": "stdout",
     "output_type": "stream",
     "text": [
      "|--- Tenure Months <= 0.22\n",
      "|   |--- Internet Service_Fiber optic <= 0.50\n",
      "|   |   |--- Tenure Months <= 0.04\n",
      "|   |   |   |--- Internet Service_No <= 0.50\n",
      "|   |   |   |   |--- Total Charges <= 0.02\n",
      "|   |   |   |   |   |--- Senior Citizen_Yes <= 0.50\n",
      "|   |   |   |   |   |   |--- Payment Method_Electronic check <= 0.50\n",
      "|   |   |   |   |   |   |   |--- class: 0\n",
      "|   |   |   |   |   |   |--- Payment Method_Electronic check >  0.50\n",
      "|   |   |   |   |   |   |   |--- class: 1\n",
      "|   |   |   |   |   |--- Senior Citizen_Yes >  0.50\n",
      "|   |   |   |   |   |   |--- Phone Service_Yes <= 0.50\n",
      "|   |   |   |   |   |   |   |--- class: 1\n",
      "|   |   |   |   |   |   |--- Phone Service_Yes >  0.50\n",
      "|   |   |   |   |   |   |   |--- class: 1\n",
      "|   |   |   |   |--- Total Charges >  0.02\n",
      "|   |   |   |   |   |--- class: 0\n",
      "|   |   |   |--- Internet Service_No >  0.50\n",
      "|   |   |   |   |--- Total Charges <= 0.00\n",
      "|   |   |   |   |   |--- Paperless Billing_Yes <= 0.50\n",
      "|   |   |   |   |   |   |--- Monthly Charges <= 0.01\n",
      "|   |   |   |   |   |   |   |--- class: 0\n",
      "|   |   |   |   |   |   |--- Monthly Charges >  0.01\n",
      "|   |   |   |   |   |   |   |--- class: 0\n",
      "|   |   |   |   |   |--- Paperless Billing_Yes >  0.50\n",
      "|   |   |   |   |   |   |--- Payment Method_Mailed check <= 0.50\n",
      "|   |   |   |   |   |   |   |--- class: 1\n",
      "|   |   |   |   |   |   |--- Payment Method_Mailed check >  0.50\n",
      "|   |   |   |   |   |   |   |--- class: 0\n",
      "|   |   |   |   |--- Total Charges >  0.00\n",
      "|   |   |   |   |   |--- Monthly Charges <= 0.01\n",
      "|   |   |   |   |   |   |--- Total Charges <= 0.00\n",
      "|   |   |   |   |   |   |   |--- class: 1\n",
      "|   |   |   |   |   |   |--- Total Charges >  0.00\n",
      "|   |   |   |   |   |   |   |--- class: 0\n",
      "|   |   |   |   |   |--- Monthly Charges >  0.01\n",
      "|   |   |   |   |   |   |--- Monthly Charges <= 0.02\n",
      "|   |   |   |   |   |   |   |--- class: 0\n",
      "|   |   |   |   |   |   |--- Monthly Charges >  0.02\n",
      "|   |   |   |   |   |   |   |--- class: 0\n",
      "|   |   |--- Tenure Months >  0.04\n",
      "|   |   |   |--- Internet Service_No <= 0.50\n",
      "|   |   |   |   |--- Total Charges <= 0.04\n",
      "|   |   |   |   |   |--- Monthly Charges <= 0.06\n",
      "|   |   |   |   |   |   |--- class: 1\n",
      "|   |   |   |   |   |--- Monthly Charges >  0.06\n",
      "|   |   |   |   |   |   |--- Monthly Charges <= 0.48\n",
      "|   |   |   |   |   |   |   |--- class: 0\n",
      "|   |   |   |   |   |   |--- Monthly Charges >  0.48\n",
      "|   |   |   |   |   |   |   |--- class: 1\n",
      "|   |   |   |   |--- Total Charges >  0.04\n",
      "|   |   |   |   |   |--- Payment Method_Electronic check <= 0.50\n",
      "|   |   |   |   |   |   |--- Multiple Lines_Yes <= 0.50\n",
      "|   |   |   |   |   |   |   |--- class: 0\n",
      "|   |   |   |   |   |   |--- Multiple Lines_Yes >  0.50\n",
      "|   |   |   |   |   |   |   |--- class: 0\n",
      "|   |   |   |   |   |--- Payment Method_Electronic check >  0.50\n",
      "|   |   |   |   |   |   |--- Online Backup_Yes <= 0.50\n",
      "|   |   |   |   |   |   |   |--- class: 0\n",
      "|   |   |   |   |   |   |--- Online Backup_Yes >  0.50\n",
      "|   |   |   |   |   |   |   |--- class: 0\n",
      "|   |   |   |--- Internet Service_No >  0.50\n",
      "|   |   |   |   |--- Monthly Charges <= 0.02\n",
      "|   |   |   |   |   |--- Total Charges <= 0.04\n",
      "|   |   |   |   |   |   |--- Dependents_Yes <= 0.50\n",
      "|   |   |   |   |   |   |   |--- class: 0\n",
      "|   |   |   |   |   |   |--- Dependents_Yes >  0.50\n",
      "|   |   |   |   |   |   |   |--- class: 0\n",
      "|   |   |   |   |   |--- Total Charges >  0.04\n",
      "|   |   |   |   |   |   |--- class: 1\n",
      "|   |   |   |   |--- Monthly Charges >  0.02\n",
      "|   |   |   |   |   |--- Monthly Charges <= 0.03\n",
      "|   |   |   |   |   |   |--- class: 0\n",
      "|   |   |   |   |   |--- Monthly Charges >  0.03\n",
      "|   |   |   |   |   |   |--- Total Charges <= 0.01\n",
      "|   |   |   |   |   |   |   |--- class: 0\n",
      "|   |   |   |   |   |   |--- Total Charges >  0.01\n",
      "|   |   |   |   |   |   |   |--- class: 0\n",
      "|   |--- Internet Service_Fiber optic >  0.50\n",
      "|   |   |--- Total Charges <= 0.01\n",
      "|   |   |   |--- Tech Support_Yes <= 0.50\n",
      "|   |   |   |   |--- Dependents_Yes <= 0.50\n",
      "|   |   |   |   |   |--- Total Charges <= 0.01\n",
      "|   |   |   |   |   |   |--- class: 1\n",
      "|   |   |   |   |   |--- Total Charges >  0.01\n",
      "|   |   |   |   |   |   |--- Total Charges <= 0.01\n",
      "|   |   |   |   |   |   |   |--- class: 1\n",
      "|   |   |   |   |   |   |--- Total Charges >  0.01\n",
      "|   |   |   |   |   |   |   |--- class: 1\n",
      "|   |   |   |   |--- Dependents_Yes >  0.50\n",
      "|   |   |   |   |   |--- Payment Method_Mailed check <= 0.50\n",
      "|   |   |   |   |   |   |--- Partner_Yes <= 0.50\n",
      "|   |   |   |   |   |   |   |--- class: 1\n",
      "|   |   |   |   |   |   |--- Partner_Yes >  0.50\n",
      "|   |   |   |   |   |   |   |--- class: 0\n",
      "|   |   |   |   |   |--- Payment Method_Mailed check >  0.50\n",
      "|   |   |   |   |   |   |--- class: 1\n",
      "|   |   |   |--- Tech Support_Yes >  0.50\n",
      "|   |   |   |   |--- Monthly Charges <= 0.65\n",
      "|   |   |   |   |   |--- class: 0\n",
      "|   |   |   |   |--- Monthly Charges >  0.65\n",
      "|   |   |   |   |   |--- Monthly Charges <= 0.75\n",
      "|   |   |   |   |   |   |--- class: 1\n",
      "|   |   |   |   |   |--- Monthly Charges >  0.75\n",
      "|   |   |   |   |   |   |--- class: 0\n",
      "|   |   |--- Total Charges >  0.01\n",
      "|   |   |   |--- Dependents_Yes <= 0.50\n",
      "|   |   |   |   |--- Streaming TV_Yes <= 0.50\n",
      "|   |   |   |   |   |--- Multiple Lines_Yes <= 0.50\n",
      "|   |   |   |   |   |   |--- Gender_Male <= 0.50\n",
      "|   |   |   |   |   |   |   |--- class: 1\n",
      "|   |   |   |   |   |   |--- Gender_Male >  0.50\n",
      "|   |   |   |   |   |   |   |--- class: 0\n",
      "|   |   |   |   |   |--- Multiple Lines_Yes >  0.50\n",
      "|   |   |   |   |   |   |--- Monthly Charges <= 0.64\n",
      "|   |   |   |   |   |   |   |--- class: 1\n",
      "|   |   |   |   |   |   |--- Monthly Charges >  0.64\n",
      "|   |   |   |   |   |   |   |--- class: 1\n",
      "|   |   |   |   |--- Streaming TV_Yes >  0.50\n",
      "|   |   |   |   |   |--- Tenure Months <= 0.19\n",
      "|   |   |   |   |   |   |--- Multiple Lines_Yes <= 0.50\n",
      "|   |   |   |   |   |   |   |--- class: 1\n",
      "|   |   |   |   |   |   |--- Multiple Lines_Yes >  0.50\n",
      "|   |   |   |   |   |   |   |--- class: 1\n",
      "|   |   |   |   |   |--- Tenure Months >  0.19\n",
      "|   |   |   |   |   |   |--- Payment Method_Electronic check <= 0.50\n",
      "|   |   |   |   |   |   |   |--- class: 0\n",
      "|   |   |   |   |   |   |--- Payment Method_Electronic check >  0.50\n",
      "|   |   |   |   |   |   |   |--- class: 1\n",
      "|   |   |   |--- Dependents_Yes >  0.50\n",
      "|   |   |   |   |--- Partner_Yes <= 0.50\n",
      "|   |   |   |   |   |--- Monthly Charges <= 0.58\n",
      "|   |   |   |   |   |   |--- Payment Method_Electronic check <= 0.50\n",
      "|   |   |   |   |   |   |   |--- class: 1\n",
      "|   |   |   |   |   |   |--- Payment Method_Electronic check >  0.50\n",
      "|   |   |   |   |   |   |   |--- class: 1\n",
      "|   |   |   |   |   |--- Monthly Charges >  0.58\n",
      "|   |   |   |   |   |   |--- Monthly Charges <= 0.60\n",
      "|   |   |   |   |   |   |   |--- class: 0\n",
      "|   |   |   |   |   |   |--- Monthly Charges >  0.60\n",
      "|   |   |   |   |   |   |   |--- class: 1\n",
      "|   |   |   |   |--- Partner_Yes >  0.50\n",
      "|   |   |   |   |   |--- Total Charges <= 0.08\n",
      "|   |   |   |   |   |   |--- Total Charges <= 0.04\n",
      "|   |   |   |   |   |   |   |--- class: 0\n",
      "|   |   |   |   |   |   |--- Total Charges >  0.04\n",
      "|   |   |   |   |   |   |   |--- class: 1\n",
      "|   |   |   |   |   |--- Total Charges >  0.08\n",
      "|   |   |   |   |   |   |--- class: 0\n",
      "|--- Tenure Months >  0.22\n",
      "|   |--- Internet Service_Fiber optic <= 0.50\n",
      "|   |   |--- Contract_Two year <= 0.50\n",
      "|   |   |   |--- Phone Service_Yes <= 0.50\n",
      "|   |   |   |   |--- Contract_One year <= 0.50\n",
      "|   |   |   |   |   |--- Payment Method_Mailed check <= 0.50\n",
      "|   |   |   |   |   |   |--- Monthly Charges <= 0.11\n",
      "|   |   |   |   |   |   |   |--- class: 0\n",
      "|   |   |   |   |   |   |--- Monthly Charges >  0.11\n",
      "|   |   |   |   |   |   |   |--- class: 0\n",
      "|   |   |   |   |   |--- Payment Method_Mailed check >  0.50\n",
      "|   |   |   |   |   |   |--- class: 0\n",
      "|   |   |   |   |--- Contract_One year >  0.50\n",
      "|   |   |   |   |   |--- Monthly Charges <= 0.37\n",
      "|   |   |   |   |   |   |--- Tech Support_Yes <= 0.50\n",
      "|   |   |   |   |   |   |   |--- class: 0\n",
      "|   |   |   |   |   |   |--- Tech Support_Yes >  0.50\n",
      "|   |   |   |   |   |   |   |--- class: 0\n",
      "|   |   |   |   |   |--- Monthly Charges >  0.37\n",
      "|   |   |   |   |   |   |--- Monthly Charges <= 0.41\n",
      "|   |   |   |   |   |   |   |--- class: 1\n",
      "|   |   |   |   |   |   |--- Monthly Charges >  0.41\n",
      "|   |   |   |   |   |   |   |--- class: 0\n",
      "|   |   |   |--- Phone Service_Yes >  0.50\n",
      "|   |   |   |   |--- Monthly Charges <= 0.27\n",
      "|   |   |   |   |   |--- Tenure Months <= 0.73\n",
      "|   |   |   |   |   |   |--- Total Charges <= 0.04\n",
      "|   |   |   |   |   |   |   |--- class: 0\n",
      "|   |   |   |   |   |   |--- Total Charges >  0.04\n",
      "|   |   |   |   |   |   |   |--- class: 0\n",
      "|   |   |   |   |   |--- Tenure Months >  0.73\n",
      "|   |   |   |   |   |   |--- Contract_One year <= 0.50\n",
      "|   |   |   |   |   |   |   |--- class: 0\n",
      "|   |   |   |   |   |   |--- Contract_One year >  0.50\n",
      "|   |   |   |   |   |   |   |--- class: 0\n",
      "|   |   |   |   |--- Monthly Charges >  0.27\n",
      "|   |   |   |   |   |--- Total Charges <= 0.14\n",
      "|   |   |   |   |   |   |--- Tenure Months <= 0.29\n",
      "|   |   |   |   |   |   |   |--- class: 0\n",
      "|   |   |   |   |   |   |--- Tenure Months >  0.29\n",
      "|   |   |   |   |   |   |   |--- class: 1\n",
      "|   |   |   |   |   |--- Total Charges >  0.14\n",
      "|   |   |   |   |   |   |--- Monthly Charges <= 0.36\n",
      "|   |   |   |   |   |   |   |--- class: 0\n",
      "|   |   |   |   |   |   |--- Monthly Charges >  0.36\n",
      "|   |   |   |   |   |   |   |--- class: 0\n",
      "|   |   |--- Contract_Two year >  0.50\n",
      "|   |   |   |--- Senior Citizen_Yes <= 0.50\n",
      "|   |   |   |   |--- Payment Method_Electronic check <= 0.50\n",
      "|   |   |   |   |   |--- Tenure Months <= 0.78\n",
      "|   |   |   |   |   |   |--- Tenure Months <= 0.75\n",
      "|   |   |   |   |   |   |   |--- class: 0\n",
      "|   |   |   |   |   |   |--- Tenure Months >  0.75\n",
      "|   |   |   |   |   |   |   |--- class: 0\n",
      "|   |   |   |   |   |--- Tenure Months >  0.78\n",
      "|   |   |   |   |   |   |--- Total Charges <= 0.55\n",
      "|   |   |   |   |   |   |   |--- class: 0\n",
      "|   |   |   |   |   |   |--- Total Charges >  0.55\n",
      "|   |   |   |   |   |   |   |--- class: 0\n",
      "|   |   |   |   |--- Payment Method_Electronic check >  0.50\n",
      "|   |   |   |   |   |--- Phone Service_Yes <= 0.50\n",
      "|   |   |   |   |   |   |--- Monthly Charges <= 0.36\n",
      "|   |   |   |   |   |   |   |--- class: 0\n",
      "|   |   |   |   |   |   |--- Monthly Charges >  0.36\n",
      "|   |   |   |   |   |   |   |--- class: 0\n",
      "|   |   |   |   |   |--- Phone Service_Yes >  0.50\n",
      "|   |   |   |   |   |   |--- Total Charges <= 0.61\n",
      "|   |   |   |   |   |   |   |--- class: 0\n",
      "|   |   |   |   |   |   |--- Total Charges >  0.61\n",
      "|   |   |   |   |   |   |   |--- class: 0\n",
      "|   |   |   |--- Senior Citizen_Yes >  0.50\n",
      "|   |   |   |   |--- Monthly Charges <= 0.74\n",
      "|   |   |   |   |   |--- Tenure Months <= 0.92\n",
      "|   |   |   |   |   |   |--- Total Charges <= 0.51\n",
      "|   |   |   |   |   |   |   |--- class: 0\n",
      "|   |   |   |   |   |   |--- Total Charges >  0.51\n",
      "|   |   |   |   |   |   |   |--- class: 1\n",
      "|   |   |   |   |   |--- Tenure Months >  0.92\n",
      "|   |   |   |   |   |   |--- class: 0\n",
      "|   |   |   |   |--- Monthly Charges >  0.74\n",
      "|   |   |   |   |   |--- class: 1\n",
      "|   |--- Internet Service_Fiber optic >  0.50\n",
      "|   |   |--- Dependents_Yes <= 0.50\n",
      "|   |   |   |--- Tenure Months <= 0.60\n",
      "|   |   |   |   |--- Contract_One year <= 0.50\n",
      "|   |   |   |   |   |--- Payment Method_Electronic check <= 0.50\n",
      "|   |   |   |   |   |   |--- Partner_Yes <= 0.50\n",
      "|   |   |   |   |   |   |   |--- class: 0\n",
      "|   |   |   |   |   |   |--- Partner_Yes >  0.50\n",
      "|   |   |   |   |   |   |   |--- class: 1\n",
      "|   |   |   |   |   |--- Payment Method_Electronic check >  0.50\n",
      "|   |   |   |   |   |   |--- Total Charges <= 0.49\n",
      "|   |   |   |   |   |   |   |--- class: 1\n",
      "|   |   |   |   |   |   |--- Total Charges >  0.49\n",
      "|   |   |   |   |   |   |   |--- class: 1\n",
      "|   |   |   |   |--- Contract_One year >  0.50\n",
      "|   |   |   |   |   |--- Total Charges <= 0.52\n",
      "|   |   |   |   |   |   |--- Streaming TV_Yes <= 0.50\n",
      "|   |   |   |   |   |   |   |--- class: 0\n",
      "|   |   |   |   |   |   |--- Streaming TV_Yes >  0.50\n",
      "|   |   |   |   |   |   |   |--- class: 0\n",
      "|   |   |   |   |   |--- Total Charges >  0.52\n",
      "|   |   |   |   |   |   |--- Monthly Charges <= 0.90\n",
      "|   |   |   |   |   |   |   |--- class: 0\n",
      "|   |   |   |   |   |   |--- Monthly Charges >  0.90\n",
      "|   |   |   |   |   |   |   |--- class: 1\n",
      "|   |   |   |--- Tenure Months >  0.60\n",
      "|   |   |   |   |--- Tenure Months <= 0.98\n",
      "|   |   |   |   |   |--- Streaming Movies_Yes <= 0.50\n",
      "|   |   |   |   |   |   |--- Payment Method_Electronic check <= 0.50\n",
      "|   |   |   |   |   |   |   |--- class: 0\n",
      "|   |   |   |   |   |   |--- Payment Method_Electronic check >  0.50\n",
      "|   |   |   |   |   |   |   |--- class: 0\n",
      "|   |   |   |   |   |--- Streaming Movies_Yes >  0.50\n",
      "|   |   |   |   |   |   |--- Contract_Two year <= 0.50\n",
      "|   |   |   |   |   |   |   |--- class: 0\n",
      "|   |   |   |   |   |   |--- Contract_Two year >  0.50\n",
      "|   |   |   |   |   |   |   |--- class: 0\n",
      "|   |   |   |   |--- Tenure Months >  0.98\n",
      "|   |   |   |   |   |--- Online Security_Yes <= 0.50\n",
      "|   |   |   |   |   |   |--- Total Charges <= 0.93\n",
      "|   |   |   |   |   |   |   |--- class: 0\n",
      "|   |   |   |   |   |   |--- Total Charges >  0.93\n",
      "|   |   |   |   |   |   |   |--- class: 1\n",
      "|   |   |   |   |   |--- Online Security_Yes >  0.50\n",
      "|   |   |   |   |   |   |--- class: 0\n",
      "|   |   |--- Dependents_Yes >  0.50\n",
      "|   |   |   |--- Partner_Yes <= 0.50\n",
      "|   |   |   |   |--- Device Protection_Yes <= 0.50\n",
      "|   |   |   |   |   |--- class: 0\n",
      "|   |   |   |   |--- Device Protection_Yes >  0.50\n",
      "|   |   |   |   |   |--- Monthly Charges <= 0.67\n",
      "|   |   |   |   |   |   |--- class: 1\n",
      "|   |   |   |   |   |--- Monthly Charges >  0.67\n",
      "|   |   |   |   |   |   |--- Monthly Charges <= 0.87\n",
      "|   |   |   |   |   |   |   |--- class: 0\n",
      "|   |   |   |   |   |   |--- Monthly Charges >  0.87\n",
      "|   |   |   |   |   |   |   |--- class: 1\n",
      "|   |   |   |--- Partner_Yes >  0.50\n",
      "|   |   |   |   |--- Total Charges <= 0.18\n",
      "|   |   |   |   |   |--- Payment Method_Electronic check <= 0.50\n",
      "|   |   |   |   |   |   |--- class: 0\n",
      "|   |   |   |   |   |--- Payment Method_Electronic check >  0.50\n",
      "|   |   |   |   |   |   |--- class: 1\n",
      "|   |   |   |   |--- Total Charges >  0.18\n",
      "|   |   |   |   |   |--- Payment Method_Electronic check <= 0.50\n",
      "|   |   |   |   |   |   |--- class: 0\n",
      "|   |   |   |   |   |--- Payment Method_Electronic check >  0.50\n",
      "|   |   |   |   |   |   |--- Total Charges <= 0.33\n",
      "|   |   |   |   |   |   |   |--- class: 0\n",
      "|   |   |   |   |   |   |--- Total Charges >  0.33\n",
      "|   |   |   |   |   |   |   |--- class: 0\n",
      "\n"
     ]
    }
   ],
   "source": [
    "from sklearn.tree import export_text\n",
    "\n",
    "print(export_text(tree_model,feature_names=names))"
   ]
  },
  {
   "cell_type": "markdown",
   "metadata": {},
   "source": [
    "## Application du modele NaiveBayes"
   ]
  },
  {
   "cell_type": "code",
   "execution_count": 180,
   "metadata": {},
   "outputs": [
    {
     "data": {
      "text/plain": [
       "{'gaussian': 0.7626920061078784,\n",
       " 'bernoulli': 0.7828040526598159,\n",
       " 'multinomial': 0.7862605752961083}"
      ]
     },
     "execution_count": 180,
     "metadata": {},
     "output_type": "execute_result"
    }
   ],
   "source": [
    "from sklearn.naive_bayes import MultinomialNB, GaussianNB, BernoulliNB\n",
    "from sklearn.model_selection import cross_val_score\n",
    "from sklearn.metrics import accuracy_score\n",
    "\n",
    "nb = {'gaussian': GaussianNB(),\n",
    "      'bernoulli': BernoulliNB(),\n",
    "      'multinomial': MultinomialNB()}\n",
    "scores = {}\n",
    "for key, model in nb.items():   #nb.items; parcourir cle et valeur\n",
    "    s = cross_val_score(model, x_train, y_train, cv=5, scoring='accuracy')\n",
    "    scores[key] = np.mean(s)\n",
    "scores"
   ]
  },
  {
   "cell_type": "code",
   "execution_count": 181,
   "metadata": {},
   "outputs": [
    {
     "name": "stdout",
     "output_type": "stream",
     "text": [
      "train score :  0.7870784234051199\n",
      "test score :  0.7985781990521327\n"
     ]
    }
   ],
   "source": [
    "bayes_model = MultinomialNB()\n",
    "bayes_model.fit(x_train, y_train)\n",
    "print('train score : ' ,bayes_model.score(x_train,y_train))\n",
    "print('test score : ' , bayes_model.score(x_test,y_test))"
   ]
  },
  {
   "cell_type": "code",
   "execution_count": 182,
   "metadata": {},
   "outputs": [
    {
     "data": {
      "image/png": "[encoded data removed]",
      "text/plain": [
       "<Figure size 432x288 with 2 Axes>"
      ]
     },
     "metadata": {
      "needs_background": "light"
     },
     "output_type": "display_data"
    }
   ],
   "source": [
    "from sklearn.metrics import plot_confusion_matrix\n",
    "\n",
    "\n",
    "plot_confusion_matrix(bayes_model,x_test,y_test,cmap=plt.cm.Blues);"
   ]
  },
  {
   "cell_type": "code",
   "execution_count": 183,
   "metadata": {},
   "outputs": [
    {
     "name": "stdout",
     "output_type": "stream",
     "text": [
      "              precision    recall  f1-score   support\n",
      "\n",
      "           0    0.86589   0.85862   0.86224      1549\n",
      "           1    0.61847   0.63280   0.62555       561\n",
      "\n",
      "    accuracy                        0.79858      2110\n",
      "   macro avg    0.74218   0.74571   0.74389      2110\n",
      "weighted avg    0.80010   0.79858   0.79931      2110\n",
      "\n"
     ]
    }
   ],
   "source": [
    "from sklearn.metrics import classification_report\n",
    "\n",
    "y_predi=bayes_model.predict(x_test)\n",
    "\n",
    "print(classification_report(y_test,y_predi,digits=5))"
   ]
  },
  {
   "cell_type": "code",
   "execution_count": 184,
   "metadata": {},
   "outputs": [],
   "source": [
    "from sklearn.metrics import roc_curve\n",
    "y_scores = bayes_model.predict_proba(x_test)\n",
    "fpr, tpr, thresholds = roc_curve(y_test, y_scores[:, 1])"
   ]
  },
  {
   "cell_type": "code",
   "execution_count": 185,
   "metadata": {},
   "outputs": [
    {
     "data": {
      "image/png": "[encoded data removed]",
      "text/plain": [
       "<Figure size 720x360 with 1 Axes>"
      ]
     },
     "metadata": {
      "needs_background": "light"
     },
     "output_type": "display_data"
    }
   ],
   "source": [
    "plt.figure(figsize=(10,5))\n",
    "plt.plot(fpr, tpr, 'b')\n",
    "plt.xlim([0,1])\n",
    "plt.ylim([0,1])\n",
    "plt.xlabel('False positive rate')\n",
    "plt.ylabel('True positive rate')\n",
    "plt.plot([0,1], [0,1] , 'r')\n",
    "plt.grid(True)\n",
    "plt.show()"
   ]
  },
  {
   "cell_type": "code",
   "execution_count": 186,
   "metadata": {},
   "outputs": [
    {
     "data": {
      "text/plain": [
       "0.8425141169796165"
      ]
     },
     "execution_count": 186,
     "metadata": {},
     "output_type": "execute_result"
    }
   ],
   "source": [
    "from sklearn.metrics import auc\n",
    "auc(fpr, tpr)"
   ]
  },
  {
   "cell_type": "markdown",
   "metadata": {},
   "source": [
    "## Aplication du modele LogisticRegression"
   ]
  },
  {
   "cell_type": "code",
   "execution_count": null,
   "metadata": {},
   "outputs": [],
   "source": [
    "from sklearn.linear_model import LogisticRegression\n",
    "from sklearn.model_selection import GridSearchCV\n",
    "\n",
    "\n",
    "log = LogisticRegression(random_state=0)\n",
    "param =  {'penalty': ['l1', 'l2', 'elasticnet', 'none'],\n",
    "          'C' : np.linspace(0,10, 100),\n",
    "          'solver': ['lbfgs', 'liblinear', 'sag', 'saga'],\n",
    "          'max_iter': [100,1000, 2000, 3000]}\n",
    "\n",
    "grid = GridSearchCV(log, param_grid=param, cv =5, n_jobs=-1)\n",
    "grid.fit(x_train, y_train)"
   ]
  },
  {
   "cell_type": "code",
   "execution_count": 51,
   "metadata": {},
   "outputs": [
    {
     "data": {
      "text/plain": [
       "{'C': 1.3131313131313131,\n",
       " 'max_iter': 100,\n",
       " 'penalty': 'l1',\n",
       " 'solver': 'liblinear'}"
      ]
     },
     "execution_count": 51,
     "metadata": {},
     "output_type": "execute_result"
    }
   ],
   "source": [
    "grid.best_params_"
   ]
  },
  {
   "cell_type": "code",
   "execution_count": 195,
   "metadata": {},
   "outputs": [
    {
     "name": "stdout",
     "output_type": "stream",
     "text": [
      "train score :  0.8108492482730597\n",
      "test score :  0.8090047393364929\n"
     ]
    }
   ],
   "source": [
    "logre_model = LogisticRegression(random_state=0, C=1.31313, penalty = 'l1', solver='liblinear')\n",
    "logre_model.fit(x_train, y_train)\n",
    "\n",
    "print('train score : ' , logre_model.score(x_train, y_train) )\n",
    "print('test score : ' , logre_model.score(x_test,y_test) )"
   ]
  },
  {
   "cell_type": "code",
   "execution_count": 196,
   "metadata": {},
   "outputs": [
    {
     "data": {
      "image/png": "[encoded data removed]",
      "text/plain": [
       "<Figure size 432x288 with 2 Axes>"
      ]
     },
     "metadata": {
      "needs_background": "light"
     },
     "output_type": "display_data"
    }
   ],
   "source": [
    "from sklearn.metrics import plot_confusion_matrix\n",
    "\n",
    "\n",
    "plot_confusion_matrix(logre_model,x_test,y_test,cmap=plt.cm.Blues);"
   ]
  },
  {
   "cell_type": "code",
   "execution_count": 197,
   "metadata": {},
   "outputs": [
    {
     "name": "stdout",
     "output_type": "stream",
     "text": [
      "              precision    recall  f1-score   support\n",
      "\n",
      "           0    0.85370   0.89283   0.87283      1549\n",
      "           1    0.66122   0.57754   0.61656       561\n",
      "\n",
      "    accuracy                        0.80900      2110\n",
      "   macro avg    0.75746   0.73519   0.74469      2110\n",
      "weighted avg    0.80253   0.80900   0.80469      2110\n",
      "\n"
     ]
    }
   ],
   "source": [
    "y_predi=logre_model.predict(x_test)\n",
    "\n",
    "print(classification_report(y_test,y_predi,digits=5))"
   ]
  },
  {
   "cell_type": "code",
   "execution_count": 198,
   "metadata": {},
   "outputs": [],
   "source": [
    "from sklearn.metrics import roc_curve\n",
    "y_scores = logre_model.predict_proba(x_test)\n",
    "fpr, tpr, thresholds = roc_curve(y_test, y_scores[:, 1])"
   ]
  },
  {
   "cell_type": "code",
   "execution_count": 199,
   "metadata": {},
   "outputs": [
    {
     "data": {
      "image/png": "[encoded data removed]",
      "text/plain": [
       "<Figure size 720x360 with 1 Axes>"
      ]
     },
     "metadata": {
      "needs_background": "light"
     },
     "output_type": "display_data"
    }
   ],
   "source": [
    "plt.figure(figsize=(10,5))\n",
    "plt.plot(fpr, tpr, 'b')\n",
    "plt.xlim([0,1])\n",
    "plt.ylim([0,1])\n",
    "plt.xlabel('False positive rate')\n",
    "plt.ylabel('True positive rate')\n",
    "plt.plot([0,1], [0,1] , 'r')\n",
    "plt.grid(True)\n",
    "plt.show()"
   ]
  },
  {
   "cell_type": "code",
   "execution_count": 200,
   "metadata": {},
   "outputs": [
    {
     "data": {
      "text/plain": [
       "0.8599619788052554"
      ]
     },
     "execution_count": 200,
     "metadata": {},
     "output_type": "execute_result"
    }
   ],
   "source": [
    "from sklearn.metrics import auc\n",
    "auc(fpr, tpr)"
   ]
  },
  {
   "cell_type": "markdown",
   "metadata": {},
   "source": [
    "## Aplication du modele RandomForestClassifier"
   ]
  },
  {
   "cell_type": "code",
   "execution_count": null,
   "metadata": {},
   "outputs": [],
   "source": [
    "from sklearn.ensemble import RandomForestClassifier\n",
    "from sklearn.model_selection import GridSearchCV\n",
    "\n",
    "\n",
    "param={'criterion': ['gini','entropy'],    \n",
    "      'max_depth' :np.arange(1,10),\n",
    "      } \n",
    "\n",
    "random_grid= GridSearchCV(RandomForestClassifier(),param_grid=param,cv=5)\n",
    "random_grid.fit(x_train,y_train)\n",
    "\n"
   ]
  },
  {
   "cell_type": "code",
   "execution_count": 135,
   "metadata": {},
   "outputs": [
    {
     "data": {
      "text/plain": [
       "{'criterion': 'entropy', 'max_depth': 8}"
      ]
     },
     "execution_count": 135,
     "metadata": {},
     "output_type": "execute_result"
    }
   ],
   "source": [
    "random_grid.best_params_"
   ]
  },
  {
   "cell_type": "code",
   "execution_count": 143,
   "metadata": {},
   "outputs": [
    {
     "name": "stdout",
     "output_type": "stream",
     "text": [
      "train score :  0.8567655424624137\n",
      "test score :  0.814218009478673\n"
     ]
    }
   ],
   "source": [
    "random_model=RandomForestClassifier(criterion='gini', max_depth=9,random_state=81)\n",
    "random_model.fit(x_train,y_train)\n",
    "\n",
    "print('train score : ' ,random_model.score(x_train,y_train))\n",
    "print('test score : ' ,random_model.score(x_test,y_test))\n"
   ]
  },
  {
   "cell_type": "code",
   "execution_count": 137,
   "metadata": {},
   "outputs": [
    {
     "name": "stdout",
     "output_type": "stream",
     "text": [
      "81\n"
     ]
    }
   ],
   "source": [
    "maxi=0\n",
    "max_score=0\n",
    "for i in  np.arange(1,100):\n",
    "    \n",
    "    random_model=RandomForestClassifier(criterion='gini', max_depth=9,random_state=i)\n",
    "    random_model.fit(x_train,y_train)\n",
    "    \n",
    "    score=random_model.score(x_test,y_test)\n",
    "    if score > max_score : \n",
    "        max_score=score\n",
    "        maxi=i\n",
    "\n",
    "print(maxi)"
   ]
  },
  {
   "cell_type": "code",
   "execution_count": 144,
   "metadata": {},
   "outputs": [
    {
     "data": {
      "image/png": "[encoded data removed]",
      "text/plain": [
       "<Figure size 432x288 with 2 Axes>"
      ]
     },
     "metadata": {
      "needs_background": "light"
     },
     "output_type": "display_data"
    }
   ],
   "source": [
    "from sklearn.metrics import plot_confusion_matrix\n",
    "\n",
    "\n",
    "plot_confusion_matrix(random_model,x_test,y_test,cmap=plt.cm.Blues);"
   ]
  },
  {
   "cell_type": "code",
   "execution_count": 145,
   "metadata": {},
   "outputs": [
    {
     "name": "stdout",
     "output_type": "stream",
     "text": [
      "              precision    recall  f1-score   support\n",
      "\n",
      "           0    0.84292   0.91801   0.87886      1549\n",
      "           1    0.69976   0.52763   0.60163       561\n",
      "\n",
      "    accuracy                        0.81422      2110\n",
      "   macro avg    0.77134   0.72282   0.74024      2110\n",
      "weighted avg    0.80486   0.81422   0.80515      2110\n",
      "\n"
     ]
    }
   ],
   "source": [
    "y_predi=random_model.predict(x_test)\n",
    "\n",
    "print(classification_report(y_test,y_predi,digits=5))"
   ]
  },
  {
   "cell_type": "code",
   "execution_count": 202,
   "metadata": {},
   "outputs": [],
   "source": [
    "from sklearn.metrics import roc_curve\n",
    "y_scores = random_model.predict_proba(x_test)\n",
    "fpr, tpr, thresholds = roc_curve(y_test, y_scores[:, 1])"
   ]
  },
  {
   "cell_type": "code",
   "execution_count": 203,
   "metadata": {},
   "outputs": [
    {
     "data": {
      "image/png": "[encoded data removed]",
      "text/plain": [
       "<Figure size 720x360 with 1 Axes>"
      ]
     },
     "metadata": {
      "needs_background": "light"
     },
     "output_type": "display_data"
    }
   ],
   "source": [
    "plt.figure(figsize=(10,5))\n",
    "plt.plot(fpr, tpr, 'b')\n",
    "plt.xlim([0,1])\n",
    "plt.ylim([0,1])\n",
    "plt.xlabel('False positive rate')\n",
    "plt.ylabel('True positive rate')\n",
    "plt.plot([0,1], [0,1] , 'r')\n",
    "plt.grid(True)\n",
    "plt.show()"
   ]
  },
  {
   "cell_type": "code",
   "execution_count": 204,
   "metadata": {},
   "outputs": [
    {
     "data": {
      "text/plain": [
       "0.8597744045091479"
      ]
     },
     "execution_count": 204,
     "metadata": {},
     "output_type": "execute_result"
    }
   ],
   "source": [
    "from sklearn.metrics import auc\n",
    "auc(fpr, tpr)"
   ]
  },
  {
   "cell_type": "markdown",
   "metadata": {},
   "source": [
    "## Summary table \n",
    "## Selection Feature : `Correlation between features ` (with 23 features)"
   ]
  },
  {
   "cell_type": "code",
   "execution_count": 205,
   "metadata": {},
   "outputs": [],
   "source": [
    "# Regardons la construction d'une DataFrame\n",
    "import numpy as np\n",
    "import pandas as pd\n",
    "\n",
    "l=['KNeighborsClassifier','DecisionTreeClassifier','NaiveBayes(MultiNomial)','LogisticRegression','RandomForestClassifier']\n",
    "train_score = pd.Series([0.8086,0.8216,0.7870,0.8108,0.8567], index=l)\n",
    "test_score = pd.Series([0.7985,0.7914,0.7985,0.8090,0.8142], index=l)\n",
    "f1_score_rester = pd.Series([0.8647,0.8618,0.8622,0.8728,0.8788], index=l)\n",
    "\n",
    "f1_score_quitter = pd.Series([0.6053,0.5744,0.6255,0.6165,0.6016], index=l)\n",
    "accuary = pd.Series([0.7985,0.7914,0.7985,0.8090,0.8142], index=l)\n",
    "auc = pd.Series([0.8431,0.8260,0.8425,0.8599,0.8597], index=l)\n",
    "\n"
   ]
  },
  {
   "cell_type": "code",
   "execution_count": 207,
   "metadata": {},
   "outputs": [
    {
     "data": {
      "text/html": [
       "<div>\n",
       "<style scoped>\n",
       "    .dataframe tbody tr th:only-of-type {\n",
       "        vertical-align: middle;\n",
       "    }\n",
       "\n",
       "    .dataframe tbody tr th {\n",
       "        vertical-align: top;\n",
       "    }\n",
       "\n",
       "    .dataframe thead th {\n",
       "        text-align: right;\n",
       "    }\n",
       "</style>\n",
       "<table border=\"1\" class=\"dataframe\">\n",
       "  <thead>\n",
       "    <tr style=\"text-align: right;\">\n",
       "      <th></th>\n",
       "      <th>train_score</th>\n",
       "      <th>test_score</th>\n",
       "      <th>f1_score_rester</th>\n",
       "      <th>f1_score_quitter</th>\n",
       "      <th>accuary</th>\n",
       "      <th>AUC</th>\n",
       "    </tr>\n",
       "  </thead>\n",
       "  <tbody>\n",
       "    <tr>\n",
       "      <th>KNeighborsClassifier</th>\n",
       "      <td>0.8086</td>\n",
       "      <td>0.7985</td>\n",
       "      <td>0.8647</td>\n",
       "      <td>0.6053</td>\n",
       "      <td>0.7985</td>\n",
       "      <td>0.8431</td>\n",
       "    </tr>\n",
       "    <tr>\n",
       "      <th>DecisionTreeClassifier</th>\n",
       "      <td>0.8216</td>\n",
       "      <td>0.7914</td>\n",
       "      <td>0.8618</td>\n",
       "      <td>0.5744</td>\n",
       "      <td>0.7914</td>\n",
       "      <td>0.8260</td>\n",
       "    </tr>\n",
       "    <tr>\n",
       "      <th>NaiveBayes(MultiNomial)</th>\n",
       "      <td>0.7870</td>\n",
       "      <td>0.7985</td>\n",
       "      <td>0.8622</td>\n",
       "      <td>0.6255</td>\n",
       "      <td>0.7985</td>\n",
       "      <td>0.8425</td>\n",
       "    </tr>\n",
       "    <tr>\n",
       "      <th>LogisticRegression</th>\n",
       "      <td>0.8108</td>\n",
       "      <td>0.8090</td>\n",
       "      <td>0.8728</td>\n",
       "      <td>0.6165</td>\n",
       "      <td>0.8090</td>\n",
       "      <td>0.8599</td>\n",
       "    </tr>\n",
       "    <tr>\n",
       "      <th>RandomForestClassifier</th>\n",
       "      <td>0.8567</td>\n",
       "      <td>0.8142</td>\n",
       "      <td>0.8788</td>\n",
       "      <td>0.6016</td>\n",
       "      <td>0.8142</td>\n",
       "      <td>0.8597</td>\n",
       "    </tr>\n",
       "  </tbody>\n",
       "</table>\n",
       "</div>"
      ],
      "text/plain": [
       "                         train_score  test_score   f1_score_rester  \\\n",
       "KNeighborsClassifier          0.8086       0.7985           0.8647   \n",
       "DecisionTreeClassifier        0.8216       0.7914           0.8618   \n",
       "NaiveBayes(MultiNomial)       0.7870       0.7985           0.8622   \n",
       "LogisticRegression            0.8108       0.8090           0.8728   \n",
       "RandomForestClassifier        0.8567       0.8142           0.8788   \n",
       "\n",
       "                         f1_score_quitter  accuary     AUC  \n",
       "KNeighborsClassifier               0.6053   0.7985  0.8431  \n",
       "DecisionTreeClassifier             0.5744   0.7914  0.8260  \n",
       "NaiveBayes(MultiNomial)            0.6255   0.7985  0.8425  \n",
       "LogisticRegression                 0.6165   0.8090  0.8599  \n",
       "RandomForestClassifier             0.6016   0.8142  0.8597  "
      ]
     },
     "execution_count": 207,
     "metadata": {},
     "output_type": "execute_result"
    }
   ],
   "source": [
    "stat = pd.DataFrame({'train_score': train_score,\n",
    "                    'test_score ' : test_score,\n",
    "                    'f1_score_rester': f1_score_rester,\n",
    "                    'f1_score_quitter': f1_score_quitter ,\n",
    "                   'accuary': accuary,\n",
    "                   'AUC': auc})\n",
    "stat\n"
   ]
  },
  {
   "cell_type": "markdown",
   "metadata": {},
   "source": [
    "## Selection Feature : `Correlation between features ` (with 23 features)"
   ]
  },
  {
   "cell_type": "code",
   "execution_count": null,
   "metadata": {},
   "outputs": [],
   "source": []
  },
  {
   "cell_type": "code",
   "execution_count": null,
   "metadata": {},
   "outputs": [],
   "source": []
  }
 ],
 "metadata": {
  "kernelspec": {
   "display_name": "Python 3",
   "language": "python",
   "name": "python3"
  },
  "language_info": {
   "codemirror_mode": {
    "name": "ipython",
    "version": 3
   },
   "file_extension": ".py",
   "mimetype": "text/x-python",
   "name": "python",
   "nbconvert_exporter": "python",
   "pygments_lexer": "ipython3",
   "version": "3.7.9"
  }
 },
 "nbformat": 4,
 "nbformat_minor": 4
}
